{
 "cells": [
  {
   "cell_type": "code",
   "execution_count": 1,
   "metadata": {},
   "outputs": [],
   "source": [
    "from elsapy.elsclient import ElsClient\n",
    "from elsapy.elsprofile import ElsAuthor, ElsAffil\n",
    "from elsapy.elsdoc import FullDoc, AbsDoc\n",
    "from elsapy.elssearch import ElsSearch\n",
    "from urllib.parse import urlencode, quote_plus"
   ]
  },
  {
   "cell_type": "code",
   "execution_count": 2,
   "metadata": {},
   "outputs": [],
   "source": [
    "## Read API key\n",
    "con_file = open(\"elsevier_key.txt\")\n",
    "api_key = con_file.read()\n",
    "con_file.close()"
   ]
  },
  {
   "cell_type": "code",
   "execution_count": 3,
   "metadata": {},
   "outputs": [
    {
     "data": {
      "text/plain": [
       "'=%22star+wars%22'"
      ]
     },
     "execution_count": 3,
     "metadata": {},
     "output_type": "execute_result"
    }
   ],
   "source": [
    "\n",
    "st = {'':'\"star wars\"'}\n",
    "urlencode(st, quote_via=quote_plus)"
   ]
  },
  {
   "cell_type": "code",
   "execution_count": null,
   "metadata": {},
   "outputs": [],
   "source": [
    "\n"
   ]
  },
  {
   "cell_type": "code",
   "execution_count": 4,
   "metadata": {},
   "outputs": [],
   "source": [
    "\n",
    "class Elsevier_Searcher():\n",
    "    __base_url = u'https://api.elsevier.com/content/search/'\n",
    "    __api_key = u'e7882eed968063f188d6c53a919528a7'\n",
    "    \n",
    "    def __init__(self, index: str, apikey: str = __api_key): \n",
    "        self.articles_found = []\n",
    "        self.apikey = apikey\n",
    "        self.els_client = ElsClient(self.apikey)\n",
    "        self._uri = self.__base_url + index + '?'\n",
    "            \n",
    "    def search(self, queryterms: list=None,\n",
    "                    start_year: int=None, end_year: int=None,\n",
    "                    content_type: str='journals', start_record: int=None, \n",
    "                    sort_field: str=None, sort_order: int=None, \n",
    "                    max_records: int=None, article_title: str = None, author: list = None):\n",
    "        \"\"\"\n",
    "        @param queryterms: list of lists. Terms within the same list are\n",
    "            separated by an OR. Lists are separated by an AND\n",
    "        @param search_type: meta_data or querytext. \n",
    "            meta_data: This field enables a free-text search of all \n",
    "                configured metadata fields and the abstract. Accepts \n",
    "                complex queries involving field names and  boolean \n",
    "                operators.\n",
    "            querytext: This field enables a free-text search of all \n",
    "                configured metadata fields, abstract and document text. \n",
    "                Accepts complex queries involving field names and boolean \n",
    "                operators. \n",
    "        @param start_year: Start value of Publication Year to restrict results by.\n",
    "        @param end_year: End value of Publication Year to restrict results by.\n",
    "        @param content_type: Note: these are case sensitive and must be spelled as \n",
    "            presented here to get a result: Journals, Conference, Early Access,\n",
    "            Standards, Books, Courses\n",
    "        @param start_record: Sequence number of first record to fetch. Default: 1\n",
    "        @param sort_field: Field name on which to sort. Choose from: article_number\n",
    "            article_title, author, publication_title, publication_year\n",
    "        @param sort_order: asc (for ascending sort) or desc (for descending sort)\n",
    "        @param max_records: The number of records to fetch. Maximum: 200\n",
    "        \n",
    "        @return  the data fields returned by the search are described by the \n",
    "            following link https://developer.ieee.org/docs/read/Metadata_API_responses\n",
    "        \"\"\"\n",
    "        \n",
    "        if not queryterms: \n",
    "            queryterms = self.queryterms\n",
    "        \n",
    "        formated_query = \"(\"\n",
    "        for index_group, group in enumerate(queryterms):\n",
    "            if index_group > 0: \n",
    "                formated_query += ' AND ('\n",
    "    #         else: \n",
    "    # #             formated_query += '('\n",
    "            for index_term, term in enumerate(group): \n",
    "                if index_term > 0: \n",
    "                    formated_query += ' OR '\n",
    "                if ' ' in term: \n",
    "                    formated_query += '('\n",
    "                formated_query += f'\"{term}\"'\n",
    "                if ' ' in term: \n",
    "                    formated_query += ')'\n",
    "\n",
    "                if (index_term + 1) == len(group):\n",
    "                    formated_query += ')'\n",
    "        if author:\n",
    "            str_author = ' AND '.join([f'\"{x}\"' for x in author])\n",
    "            formated_query += f' AND aut({str_author})'\n",
    "        if article_title:\n",
    "            formated_query += f' AND ttl({article_title})'\n",
    "        \n",
    "        query_params = dict()\n",
    "        \n",
    "        query_params['query'] = formated_query\n",
    "#         query_params['view'] = 'STANDARD'\n",
    "            \n",
    "        if start_year: \n",
    "            date = start_year\n",
    "            if end_year: \n",
    "                date += f'-{end_year}'\n",
    "            query_params['date'] = date\n",
    "        if content_type: \n",
    "            query_params['content'] = content_type\n",
    "        if start_record: \n",
    "            query_params['start'] = start_record\n",
    "        if sort_field: \n",
    "            url += '&sort_field=' + sort_field \n",
    "        if sort_order: \n",
    "            url += '&sort_order=' + sort_order\n",
    "        if max_records: \n",
    "            query_params['count'] = max_records\n",
    "        \n",
    "        get_all = True\n",
    "        \n",
    "        url = self._uri + urlencode(query_params, quote_via=quote_plus)\n",
    "        print(url)\n",
    "        \n",
    "        self._api_response = self.els_client.exec_request(url)\n",
    "        self._tot_num_res = int(self._api_response['search-results']['opensearch:totalResults'])\n",
    "        self.results = self._api_response['search-results']['entry']\n",
    "        print(\"a request completed...\")\n",
    "        if get_all is True:\n",
    "            while (len(self.results) < self._tot_num_res) and (len(self.results) < 5000):\n",
    "                for e in self._api_response['search-results']['link']:\n",
    "                    if e['@ref'] == 'next':\n",
    "                        next_url = e['@href']\n",
    "                self._api_response = self.els_client.exec_request(next_url)\n",
    "                self.results += self._api_response['search-results']['entry'] \n",
    "                print(\"a request completed...\")\n",
    "\n",
    "        return self.results"
   ]
  },
  {
   "cell_type": "code",
   "execution_count": 50,
   "metadata": {},
   "outputs": [],
   "source": [
    "# ScienceDirect\n",
    "#searcher = Elsevier_Searcher(apikey=api_key, index='scidir')\n",
    "\n",
    "# Scopus\n",
    "searcher = Elsevier_Searcher(index='scopus')"
   ]
  },
  {
   "cell_type": "code",
   "execution_count": 51,
   "metadata": {},
   "outputs": [
    {
     "name": "stdout",
     "output_type": "stream",
     "text": [
      "https://api.elsevier.com/content/search/scopus?query=%28%28%22machine+learning%22%29+OR+%28%22deep+learning%22%29+OR+%28%22artificial+intelligence%22%29+OR+%28%22neural+network%22%29%29+AND+%28%28%22coronary+artery+disease%22%29+OR+%28%22chest+pain%22%29+OR+%28%22heart+disease%22%29+OR+%22MACE%22+OR+%28%22Acute+Cardiac+Complications%22%29%29&date=2010&content=journals\n",
      "a request completed...\n",
      "a request completed...\n",
      "a request completed...\n",
      "a request completed...\n",
      "a request completed...\n",
      "a request completed...\n",
      "a request completed...\n",
      "a request completed...\n",
      "a request completed...\n",
      "a request completed...\n",
      "a request completed...\n",
      "a request completed...\n",
      "a request completed...\n",
      "a request completed...\n",
      "a request completed...\n",
      "a request completed...\n",
      "a request completed...\n",
      "a request completed...\n",
      "a request completed...\n",
      "a request completed...\n",
      "a request completed...\n",
      "a request completed...\n",
      "a request completed...\n",
      "a request completed...\n",
      "a request completed...\n",
      "a request completed...\n"
     ]
    },
    {
     "ename": "KeyboardInterrupt",
     "evalue": "",
     "output_type": "error",
     "traceback": [
      "\u001b[0;31m---------------------------------------------------------------------------\u001b[0m",
      "\u001b[0;31mTypeError\u001b[0m                                 Traceback (most recent call last)",
      "\u001b[0;32m~/.virtualenvs/bibliographic-reviewer/lib/python3.6/site-packages/urllib3/connectionpool.py\u001b[0m in \u001b[0;36m_make_request\u001b[0;34m(self, conn, method, url, timeout, chunked, **httplib_request_kw)\u001b[0m\n\u001b[1;32m    379\u001b[0m             \u001b[0;32mtry\u001b[0m\u001b[0;34m:\u001b[0m  \u001b[0;31m# Python 2.7, use buffering of HTTP responses\u001b[0m\u001b[0;34m\u001b[0m\u001b[0m\n\u001b[0;32m--> 380\u001b[0;31m                 \u001b[0mhttplib_response\u001b[0m \u001b[0;34m=\u001b[0m \u001b[0mconn\u001b[0m\u001b[0;34m.\u001b[0m\u001b[0mgetresponse\u001b[0m\u001b[0;34m(\u001b[0m\u001b[0mbuffering\u001b[0m\u001b[0;34m=\u001b[0m\u001b[0;32mTrue\u001b[0m\u001b[0;34m)\u001b[0m\u001b[0;34m\u001b[0m\u001b[0m\n\u001b[0m\u001b[1;32m    381\u001b[0m             \u001b[0;32mexcept\u001b[0m \u001b[0mTypeError\u001b[0m\u001b[0;34m:\u001b[0m  \u001b[0;31m# Python 2.6 and older, Python 3\u001b[0m\u001b[0;34m\u001b[0m\u001b[0m\n",
      "\u001b[0;31mTypeError\u001b[0m: getresponse() got an unexpected keyword argument 'buffering'",
      "\nDuring handling of the above exception, another exception occurred:\n",
      "\u001b[0;31mKeyboardInterrupt\u001b[0m                         Traceback (most recent call last)",
      "\u001b[0;32m<ipython-input-51-d82fd31e47a7>\u001b[0m in \u001b[0;36m<module>\u001b[0;34m()\u001b[0m\n\u001b[1;32m     10\u001b[0m \u001b[0;34m\u001b[0m\u001b[0m\n\u001b[1;32m     11\u001b[0m \u001b[0;34m\u001b[0m\u001b[0m\n\u001b[0;32m---> 12\u001b[0;31m \u001b[0msearcher\u001b[0m\u001b[0;34m.\u001b[0m\u001b[0msearch\u001b[0m\u001b[0;34m(\u001b[0m\u001b[0;34m[\u001b[0m\u001b[0mtechnology_queryterms\u001b[0m\u001b[0;34m,\u001b[0m \u001b[0mhealth_queryterms\u001b[0m\u001b[0;34m]\u001b[0m\u001b[0;34m,\u001b[0m \u001b[0mstart_year\u001b[0m\u001b[0;34m=\u001b[0m\u001b[0;36m2010\u001b[0m\u001b[0;34m)\u001b[0m\u001b[0;34m\u001b[0m\u001b[0m\n\u001b[0m",
      "\u001b[0;32m<ipython-input-4-119eed88eb6a>\u001b[0m in \u001b[0;36msearch\u001b[0;34m(self, queryterms, start_year, end_year, content_type, start_record, sort_field, sort_order, max_records, article_title, author)\u001b[0m\n\u001b[1;32m    103\u001b[0m                     \u001b[0;32mif\u001b[0m \u001b[0me\u001b[0m\u001b[0;34m[\u001b[0m\u001b[0;34m'@ref'\u001b[0m\u001b[0;34m]\u001b[0m \u001b[0;34m==\u001b[0m \u001b[0;34m'next'\u001b[0m\u001b[0;34m:\u001b[0m\u001b[0;34m\u001b[0m\u001b[0m\n\u001b[1;32m    104\u001b[0m                         \u001b[0mnext_url\u001b[0m \u001b[0;34m=\u001b[0m \u001b[0me\u001b[0m\u001b[0;34m[\u001b[0m\u001b[0;34m'@href'\u001b[0m\u001b[0;34m]\u001b[0m\u001b[0;34m\u001b[0m\u001b[0m\n\u001b[0;32m--> 105\u001b[0;31m                 \u001b[0mself\u001b[0m\u001b[0;34m.\u001b[0m\u001b[0m_api_response\u001b[0m \u001b[0;34m=\u001b[0m \u001b[0mself\u001b[0m\u001b[0;34m.\u001b[0m\u001b[0mels_client\u001b[0m\u001b[0;34m.\u001b[0m\u001b[0mexec_request\u001b[0m\u001b[0;34m(\u001b[0m\u001b[0mnext_url\u001b[0m\u001b[0;34m)\u001b[0m\u001b[0;34m\u001b[0m\u001b[0m\n\u001b[0m\u001b[1;32m    106\u001b[0m                 \u001b[0mself\u001b[0m\u001b[0;34m.\u001b[0m\u001b[0mresults\u001b[0m \u001b[0;34m+=\u001b[0m \u001b[0mself\u001b[0m\u001b[0;34m.\u001b[0m\u001b[0m_api_response\u001b[0m\u001b[0;34m[\u001b[0m\u001b[0;34m'search-results'\u001b[0m\u001b[0;34m]\u001b[0m\u001b[0;34m[\u001b[0m\u001b[0;34m'entry'\u001b[0m\u001b[0;34m]\u001b[0m\u001b[0;34m\u001b[0m\u001b[0m\n\u001b[1;32m    107\u001b[0m                 \u001b[0mprint\u001b[0m\u001b[0;34m(\u001b[0m\u001b[0;34m\"a request completed...\"\u001b[0m\u001b[0;34m)\u001b[0m\u001b[0;34m\u001b[0m\u001b[0m\n",
      "\u001b[0;32m~/.virtualenvs/bibliographic-reviewer/lib/python3.6/site-packages/elsapy/elsclient.py\u001b[0m in \u001b[0;36mexec_request\u001b[0;34m(self, URL)\u001b[0m\n\u001b[1;32m    108\u001b[0m         r = requests.get(\n\u001b[1;32m    109\u001b[0m             \u001b[0mURL\u001b[0m\u001b[0;34m,\u001b[0m\u001b[0;34m\u001b[0m\u001b[0m\n\u001b[0;32m--> 110\u001b[0;31m             \u001b[0mheaders\u001b[0m \u001b[0;34m=\u001b[0m \u001b[0mheaders\u001b[0m\u001b[0;34m\u001b[0m\u001b[0m\n\u001b[0m\u001b[1;32m    111\u001b[0m             )\n\u001b[1;32m    112\u001b[0m         \u001b[0mself\u001b[0m\u001b[0;34m.\u001b[0m\u001b[0m__ts_last_req\u001b[0m \u001b[0;34m=\u001b[0m \u001b[0mtime\u001b[0m\u001b[0;34m.\u001b[0m\u001b[0mtime\u001b[0m\u001b[0;34m(\u001b[0m\u001b[0;34m)\u001b[0m\u001b[0;34m\u001b[0m\u001b[0m\n",
      "\u001b[0;32m~/.virtualenvs/bibliographic-reviewer/lib/python3.6/site-packages/requests/api.py\u001b[0m in \u001b[0;36mget\u001b[0;34m(url, params, **kwargs)\u001b[0m\n\u001b[1;32m     70\u001b[0m \u001b[0;34m\u001b[0m\u001b[0m\n\u001b[1;32m     71\u001b[0m     \u001b[0mkwargs\u001b[0m\u001b[0;34m.\u001b[0m\u001b[0msetdefault\u001b[0m\u001b[0;34m(\u001b[0m\u001b[0;34m'allow_redirects'\u001b[0m\u001b[0;34m,\u001b[0m \u001b[0;32mTrue\u001b[0m\u001b[0;34m)\u001b[0m\u001b[0;34m\u001b[0m\u001b[0m\n\u001b[0;32m---> 72\u001b[0;31m     \u001b[0;32mreturn\u001b[0m \u001b[0mrequest\u001b[0m\u001b[0;34m(\u001b[0m\u001b[0;34m'get'\u001b[0m\u001b[0;34m,\u001b[0m \u001b[0murl\u001b[0m\u001b[0;34m,\u001b[0m \u001b[0mparams\u001b[0m\u001b[0;34m=\u001b[0m\u001b[0mparams\u001b[0m\u001b[0;34m,\u001b[0m \u001b[0;34m**\u001b[0m\u001b[0mkwargs\u001b[0m\u001b[0;34m)\u001b[0m\u001b[0;34m\u001b[0m\u001b[0m\n\u001b[0m\u001b[1;32m     73\u001b[0m \u001b[0;34m\u001b[0m\u001b[0m\n\u001b[1;32m     74\u001b[0m \u001b[0;34m\u001b[0m\u001b[0m\n",
      "\u001b[0;32m~/.virtualenvs/bibliographic-reviewer/lib/python3.6/site-packages/requests/api.py\u001b[0m in \u001b[0;36mrequest\u001b[0;34m(method, url, **kwargs)\u001b[0m\n\u001b[1;32m     56\u001b[0m     \u001b[0;31m# cases, and look like a memory leak in others.\u001b[0m\u001b[0;34m\u001b[0m\u001b[0;34m\u001b[0m\u001b[0m\n\u001b[1;32m     57\u001b[0m     \u001b[0;32mwith\u001b[0m \u001b[0msessions\u001b[0m\u001b[0;34m.\u001b[0m\u001b[0mSession\u001b[0m\u001b[0;34m(\u001b[0m\u001b[0;34m)\u001b[0m \u001b[0;32mas\u001b[0m \u001b[0msession\u001b[0m\u001b[0;34m:\u001b[0m\u001b[0;34m\u001b[0m\u001b[0m\n\u001b[0;32m---> 58\u001b[0;31m         \u001b[0;32mreturn\u001b[0m \u001b[0msession\u001b[0m\u001b[0;34m.\u001b[0m\u001b[0mrequest\u001b[0m\u001b[0;34m(\u001b[0m\u001b[0mmethod\u001b[0m\u001b[0;34m=\u001b[0m\u001b[0mmethod\u001b[0m\u001b[0;34m,\u001b[0m \u001b[0murl\u001b[0m\u001b[0;34m=\u001b[0m\u001b[0murl\u001b[0m\u001b[0;34m,\u001b[0m \u001b[0;34m**\u001b[0m\u001b[0mkwargs\u001b[0m\u001b[0;34m)\u001b[0m\u001b[0;34m\u001b[0m\u001b[0m\n\u001b[0m\u001b[1;32m     59\u001b[0m \u001b[0;34m\u001b[0m\u001b[0m\n\u001b[1;32m     60\u001b[0m \u001b[0;34m\u001b[0m\u001b[0m\n",
      "\u001b[0;32m~/.virtualenvs/bibliographic-reviewer/lib/python3.6/site-packages/requests/sessions.py\u001b[0m in \u001b[0;36mrequest\u001b[0;34m(self, method, url, params, data, headers, cookies, files, auth, timeout, allow_redirects, proxies, hooks, stream, verify, cert, json)\u001b[0m\n\u001b[1;32m    506\u001b[0m         }\n\u001b[1;32m    507\u001b[0m         \u001b[0msend_kwargs\u001b[0m\u001b[0;34m.\u001b[0m\u001b[0mupdate\u001b[0m\u001b[0;34m(\u001b[0m\u001b[0msettings\u001b[0m\u001b[0;34m)\u001b[0m\u001b[0;34m\u001b[0m\u001b[0m\n\u001b[0;32m--> 508\u001b[0;31m         \u001b[0mresp\u001b[0m \u001b[0;34m=\u001b[0m \u001b[0mself\u001b[0m\u001b[0;34m.\u001b[0m\u001b[0msend\u001b[0m\u001b[0;34m(\u001b[0m\u001b[0mprep\u001b[0m\u001b[0;34m,\u001b[0m \u001b[0;34m**\u001b[0m\u001b[0msend_kwargs\u001b[0m\u001b[0;34m)\u001b[0m\u001b[0;34m\u001b[0m\u001b[0m\n\u001b[0m\u001b[1;32m    509\u001b[0m \u001b[0;34m\u001b[0m\u001b[0m\n\u001b[1;32m    510\u001b[0m         \u001b[0;32mreturn\u001b[0m \u001b[0mresp\u001b[0m\u001b[0;34m\u001b[0m\u001b[0m\n",
      "\u001b[0;32m~/.virtualenvs/bibliographic-reviewer/lib/python3.6/site-packages/requests/sessions.py\u001b[0m in \u001b[0;36msend\u001b[0;34m(self, request, **kwargs)\u001b[0m\n\u001b[1;32m    616\u001b[0m \u001b[0;34m\u001b[0m\u001b[0m\n\u001b[1;32m    617\u001b[0m         \u001b[0;31m# Send the request\u001b[0m\u001b[0;34m\u001b[0m\u001b[0;34m\u001b[0m\u001b[0m\n\u001b[0;32m--> 618\u001b[0;31m         \u001b[0mr\u001b[0m \u001b[0;34m=\u001b[0m \u001b[0madapter\u001b[0m\u001b[0;34m.\u001b[0m\u001b[0msend\u001b[0m\u001b[0;34m(\u001b[0m\u001b[0mrequest\u001b[0m\u001b[0;34m,\u001b[0m \u001b[0;34m**\u001b[0m\u001b[0mkwargs\u001b[0m\u001b[0;34m)\u001b[0m\u001b[0;34m\u001b[0m\u001b[0m\n\u001b[0m\u001b[1;32m    619\u001b[0m \u001b[0;34m\u001b[0m\u001b[0m\n\u001b[1;32m    620\u001b[0m         \u001b[0;31m# Total elapsed time of the request (approximately)\u001b[0m\u001b[0;34m\u001b[0m\u001b[0;34m\u001b[0m\u001b[0m\n",
      "\u001b[0;32m~/.virtualenvs/bibliographic-reviewer/lib/python3.6/site-packages/requests/adapters.py\u001b[0m in \u001b[0;36msend\u001b[0;34m(self, request, stream, timeout, verify, cert, proxies)\u001b[0m\n\u001b[1;32m    438\u001b[0m                     \u001b[0mdecode_content\u001b[0m\u001b[0;34m=\u001b[0m\u001b[0;32mFalse\u001b[0m\u001b[0;34m,\u001b[0m\u001b[0;34m\u001b[0m\u001b[0m\n\u001b[1;32m    439\u001b[0m                     \u001b[0mretries\u001b[0m\u001b[0;34m=\u001b[0m\u001b[0mself\u001b[0m\u001b[0;34m.\u001b[0m\u001b[0mmax_retries\u001b[0m\u001b[0;34m,\u001b[0m\u001b[0;34m\u001b[0m\u001b[0m\n\u001b[0;32m--> 440\u001b[0;31m                     \u001b[0mtimeout\u001b[0m\u001b[0;34m=\u001b[0m\u001b[0mtimeout\u001b[0m\u001b[0;34m\u001b[0m\u001b[0m\n\u001b[0m\u001b[1;32m    441\u001b[0m                 )\n\u001b[1;32m    442\u001b[0m \u001b[0;34m\u001b[0m\u001b[0m\n",
      "\u001b[0;32m~/.virtualenvs/bibliographic-reviewer/lib/python3.6/site-packages/urllib3/connectionpool.py\u001b[0m in \u001b[0;36murlopen\u001b[0;34m(self, method, url, body, headers, retries, redirect, assert_same_host, timeout, pool_timeout, release_conn, chunked, body_pos, **response_kw)\u001b[0m\n\u001b[1;32m    599\u001b[0m                                                   \u001b[0mtimeout\u001b[0m\u001b[0;34m=\u001b[0m\u001b[0mtimeout_obj\u001b[0m\u001b[0;34m,\u001b[0m\u001b[0;34m\u001b[0m\u001b[0m\n\u001b[1;32m    600\u001b[0m                                                   \u001b[0mbody\u001b[0m\u001b[0;34m=\u001b[0m\u001b[0mbody\u001b[0m\u001b[0;34m,\u001b[0m \u001b[0mheaders\u001b[0m\u001b[0;34m=\u001b[0m\u001b[0mheaders\u001b[0m\u001b[0;34m,\u001b[0m\u001b[0;34m\u001b[0m\u001b[0m\n\u001b[0;32m--> 601\u001b[0;31m                                                   chunked=chunked)\n\u001b[0m\u001b[1;32m    602\u001b[0m \u001b[0;34m\u001b[0m\u001b[0m\n\u001b[1;32m    603\u001b[0m             \u001b[0;31m# If we're going to release the connection in ``finally:``, then\u001b[0m\u001b[0;34m\u001b[0m\u001b[0;34m\u001b[0m\u001b[0m\n",
      "\u001b[0;32m~/.virtualenvs/bibliographic-reviewer/lib/python3.6/site-packages/urllib3/connectionpool.py\u001b[0m in \u001b[0;36m_make_request\u001b[0;34m(self, conn, method, url, timeout, chunked, **httplib_request_kw)\u001b[0m\n\u001b[1;32m    381\u001b[0m             \u001b[0;32mexcept\u001b[0m \u001b[0mTypeError\u001b[0m\u001b[0;34m:\u001b[0m  \u001b[0;31m# Python 2.6 and older, Python 3\u001b[0m\u001b[0;34m\u001b[0m\u001b[0m\n\u001b[1;32m    382\u001b[0m                 \u001b[0;32mtry\u001b[0m\u001b[0;34m:\u001b[0m\u001b[0;34m\u001b[0m\u001b[0m\n\u001b[0;32m--> 383\u001b[0;31m                     \u001b[0mhttplib_response\u001b[0m \u001b[0;34m=\u001b[0m \u001b[0mconn\u001b[0m\u001b[0;34m.\u001b[0m\u001b[0mgetresponse\u001b[0m\u001b[0;34m(\u001b[0m\u001b[0;34m)\u001b[0m\u001b[0;34m\u001b[0m\u001b[0m\n\u001b[0m\u001b[1;32m    384\u001b[0m                 \u001b[0;32mexcept\u001b[0m \u001b[0mException\u001b[0m \u001b[0;32mas\u001b[0m \u001b[0me\u001b[0m\u001b[0;34m:\u001b[0m\u001b[0;34m\u001b[0m\u001b[0m\n\u001b[1;32m    385\u001b[0m                     \u001b[0;31m# Remove the TypeError from the exception chain in Python 3;\u001b[0m\u001b[0;34m\u001b[0m\u001b[0;34m\u001b[0m\u001b[0m\n",
      "\u001b[0;32m~/.pyenv/versions/3.6.3/Python.framework/Versions/3.6/lib/python3.6/http/client.py\u001b[0m in \u001b[0;36mgetresponse\u001b[0;34m(self)\u001b[0m\n\u001b[1;32m   1329\u001b[0m         \u001b[0;32mtry\u001b[0m\u001b[0;34m:\u001b[0m\u001b[0;34m\u001b[0m\u001b[0m\n\u001b[1;32m   1330\u001b[0m             \u001b[0;32mtry\u001b[0m\u001b[0;34m:\u001b[0m\u001b[0;34m\u001b[0m\u001b[0m\n\u001b[0;32m-> 1331\u001b[0;31m                 \u001b[0mresponse\u001b[0m\u001b[0;34m.\u001b[0m\u001b[0mbegin\u001b[0m\u001b[0;34m(\u001b[0m\u001b[0;34m)\u001b[0m\u001b[0;34m\u001b[0m\u001b[0m\n\u001b[0m\u001b[1;32m   1332\u001b[0m             \u001b[0;32mexcept\u001b[0m \u001b[0mConnectionError\u001b[0m\u001b[0;34m:\u001b[0m\u001b[0;34m\u001b[0m\u001b[0m\n\u001b[1;32m   1333\u001b[0m                 \u001b[0mself\u001b[0m\u001b[0;34m.\u001b[0m\u001b[0mclose\u001b[0m\u001b[0;34m(\u001b[0m\u001b[0;34m)\u001b[0m\u001b[0;34m\u001b[0m\u001b[0m\n",
      "\u001b[0;32m~/.pyenv/versions/3.6.3/Python.framework/Versions/3.6/lib/python3.6/http/client.py\u001b[0m in \u001b[0;36mbegin\u001b[0;34m(self)\u001b[0m\n\u001b[1;32m    295\u001b[0m         \u001b[0;31m# read until we get a non-100 response\u001b[0m\u001b[0;34m\u001b[0m\u001b[0;34m\u001b[0m\u001b[0m\n\u001b[1;32m    296\u001b[0m         \u001b[0;32mwhile\u001b[0m \u001b[0;32mTrue\u001b[0m\u001b[0;34m:\u001b[0m\u001b[0;34m\u001b[0m\u001b[0m\n\u001b[0;32m--> 297\u001b[0;31m             \u001b[0mversion\u001b[0m\u001b[0;34m,\u001b[0m \u001b[0mstatus\u001b[0m\u001b[0;34m,\u001b[0m \u001b[0mreason\u001b[0m \u001b[0;34m=\u001b[0m \u001b[0mself\u001b[0m\u001b[0;34m.\u001b[0m\u001b[0m_read_status\u001b[0m\u001b[0;34m(\u001b[0m\u001b[0;34m)\u001b[0m\u001b[0;34m\u001b[0m\u001b[0m\n\u001b[0m\u001b[1;32m    298\u001b[0m             \u001b[0;32mif\u001b[0m \u001b[0mstatus\u001b[0m \u001b[0;34m!=\u001b[0m \u001b[0mCONTINUE\u001b[0m\u001b[0;34m:\u001b[0m\u001b[0;34m\u001b[0m\u001b[0m\n\u001b[1;32m    299\u001b[0m                 \u001b[0;32mbreak\u001b[0m\u001b[0;34m\u001b[0m\u001b[0m\n",
      "\u001b[0;32m~/.pyenv/versions/3.6.3/Python.framework/Versions/3.6/lib/python3.6/http/client.py\u001b[0m in \u001b[0;36m_read_status\u001b[0;34m(self)\u001b[0m\n\u001b[1;32m    256\u001b[0m \u001b[0;34m\u001b[0m\u001b[0m\n\u001b[1;32m    257\u001b[0m     \u001b[0;32mdef\u001b[0m \u001b[0m_read_status\u001b[0m\u001b[0;34m(\u001b[0m\u001b[0mself\u001b[0m\u001b[0;34m)\u001b[0m\u001b[0;34m:\u001b[0m\u001b[0;34m\u001b[0m\u001b[0m\n\u001b[0;32m--> 258\u001b[0;31m         \u001b[0mline\u001b[0m \u001b[0;34m=\u001b[0m \u001b[0mstr\u001b[0m\u001b[0;34m(\u001b[0m\u001b[0mself\u001b[0m\u001b[0;34m.\u001b[0m\u001b[0mfp\u001b[0m\u001b[0;34m.\u001b[0m\u001b[0mreadline\u001b[0m\u001b[0;34m(\u001b[0m\u001b[0m_MAXLINE\u001b[0m \u001b[0;34m+\u001b[0m \u001b[0;36m1\u001b[0m\u001b[0;34m)\u001b[0m\u001b[0;34m,\u001b[0m \u001b[0;34m\"iso-8859-1\"\u001b[0m\u001b[0;34m)\u001b[0m\u001b[0;34m\u001b[0m\u001b[0m\n\u001b[0m\u001b[1;32m    259\u001b[0m         \u001b[0;32mif\u001b[0m \u001b[0mlen\u001b[0m\u001b[0;34m(\u001b[0m\u001b[0mline\u001b[0m\u001b[0;34m)\u001b[0m \u001b[0;34m>\u001b[0m \u001b[0m_MAXLINE\u001b[0m\u001b[0;34m:\u001b[0m\u001b[0;34m\u001b[0m\u001b[0m\n\u001b[1;32m    260\u001b[0m             \u001b[0;32mraise\u001b[0m \u001b[0mLineTooLong\u001b[0m\u001b[0;34m(\u001b[0m\u001b[0;34m\"status line\"\u001b[0m\u001b[0;34m)\u001b[0m\u001b[0;34m\u001b[0m\u001b[0m\n",
      "\u001b[0;32m~/.pyenv/versions/3.6.3/Python.framework/Versions/3.6/lib/python3.6/socket.py\u001b[0m in \u001b[0;36mreadinto\u001b[0;34m(self, b)\u001b[0m\n\u001b[1;32m    584\u001b[0m         \u001b[0;32mwhile\u001b[0m \u001b[0;32mTrue\u001b[0m\u001b[0;34m:\u001b[0m\u001b[0;34m\u001b[0m\u001b[0m\n\u001b[1;32m    585\u001b[0m             \u001b[0;32mtry\u001b[0m\u001b[0;34m:\u001b[0m\u001b[0;34m\u001b[0m\u001b[0m\n\u001b[0;32m--> 586\u001b[0;31m                 \u001b[0;32mreturn\u001b[0m \u001b[0mself\u001b[0m\u001b[0;34m.\u001b[0m\u001b[0m_sock\u001b[0m\u001b[0;34m.\u001b[0m\u001b[0mrecv_into\u001b[0m\u001b[0;34m(\u001b[0m\u001b[0mb\u001b[0m\u001b[0;34m)\u001b[0m\u001b[0;34m\u001b[0m\u001b[0m\n\u001b[0m\u001b[1;32m    587\u001b[0m             \u001b[0;32mexcept\u001b[0m \u001b[0mtimeout\u001b[0m\u001b[0;34m:\u001b[0m\u001b[0;34m\u001b[0m\u001b[0m\n\u001b[1;32m    588\u001b[0m                 \u001b[0mself\u001b[0m\u001b[0;34m.\u001b[0m\u001b[0m_timeout_occurred\u001b[0m \u001b[0;34m=\u001b[0m \u001b[0;32mTrue\u001b[0m\u001b[0;34m\u001b[0m\u001b[0m\n",
      "\u001b[0;32m~/.virtualenvs/bibliographic-reviewer/lib/python3.6/site-packages/urllib3/contrib/pyopenssl.py\u001b[0m in \u001b[0;36mrecv_into\u001b[0;34m(self, *args, **kwargs)\u001b[0m\n\u001b[1;32m    278\u001b[0m     \u001b[0;32mdef\u001b[0m \u001b[0mrecv_into\u001b[0m\u001b[0;34m(\u001b[0m\u001b[0mself\u001b[0m\u001b[0;34m,\u001b[0m \u001b[0;34m*\u001b[0m\u001b[0margs\u001b[0m\u001b[0;34m,\u001b[0m \u001b[0;34m**\u001b[0m\u001b[0mkwargs\u001b[0m\u001b[0;34m)\u001b[0m\u001b[0;34m:\u001b[0m\u001b[0;34m\u001b[0m\u001b[0m\n\u001b[1;32m    279\u001b[0m         \u001b[0;32mtry\u001b[0m\u001b[0;34m:\u001b[0m\u001b[0;34m\u001b[0m\u001b[0m\n\u001b[0;32m--> 280\u001b[0;31m             \u001b[0;32mreturn\u001b[0m \u001b[0mself\u001b[0m\u001b[0;34m.\u001b[0m\u001b[0mconnection\u001b[0m\u001b[0;34m.\u001b[0m\u001b[0mrecv_into\u001b[0m\u001b[0;34m(\u001b[0m\u001b[0;34m*\u001b[0m\u001b[0margs\u001b[0m\u001b[0;34m,\u001b[0m \u001b[0;34m**\u001b[0m\u001b[0mkwargs\u001b[0m\u001b[0;34m)\u001b[0m\u001b[0;34m\u001b[0m\u001b[0m\n\u001b[0m\u001b[1;32m    281\u001b[0m         \u001b[0;32mexcept\u001b[0m \u001b[0mOpenSSL\u001b[0m\u001b[0;34m.\u001b[0m\u001b[0mSSL\u001b[0m\u001b[0;34m.\u001b[0m\u001b[0mSysCallError\u001b[0m \u001b[0;32mas\u001b[0m \u001b[0me\u001b[0m\u001b[0;34m:\u001b[0m\u001b[0;34m\u001b[0m\u001b[0m\n\u001b[1;32m    282\u001b[0m             \u001b[0;32mif\u001b[0m \u001b[0mself\u001b[0m\u001b[0;34m.\u001b[0m\u001b[0msuppress_ragged_eofs\u001b[0m \u001b[0;32mand\u001b[0m \u001b[0me\u001b[0m\u001b[0;34m.\u001b[0m\u001b[0margs\u001b[0m \u001b[0;34m==\u001b[0m \u001b[0;34m(\u001b[0m\u001b[0;34m-\u001b[0m\u001b[0;36m1\u001b[0m\u001b[0;34m,\u001b[0m \u001b[0;34m'Unexpected EOF'\u001b[0m\u001b[0;34m)\u001b[0m\u001b[0;34m:\u001b[0m\u001b[0;34m\u001b[0m\u001b[0m\n",
      "\u001b[0;32m~/.virtualenvs/bibliographic-reviewer/lib/python3.6/site-packages/OpenSSL/SSL.py\u001b[0m in \u001b[0;36mrecv_into\u001b[0;34m(self, buffer, nbytes, flags)\u001b[0m\n\u001b[1;32m   1712\u001b[0m             \u001b[0mresult\u001b[0m \u001b[0;34m=\u001b[0m \u001b[0m_lib\u001b[0m\u001b[0;34m.\u001b[0m\u001b[0mSSL_peek\u001b[0m\u001b[0;34m(\u001b[0m\u001b[0mself\u001b[0m\u001b[0;34m.\u001b[0m\u001b[0m_ssl\u001b[0m\u001b[0;34m,\u001b[0m \u001b[0mbuf\u001b[0m\u001b[0;34m,\u001b[0m \u001b[0mnbytes\u001b[0m\u001b[0;34m)\u001b[0m\u001b[0;34m\u001b[0m\u001b[0m\n\u001b[1;32m   1713\u001b[0m         \u001b[0;32melse\u001b[0m\u001b[0;34m:\u001b[0m\u001b[0;34m\u001b[0m\u001b[0m\n\u001b[0;32m-> 1714\u001b[0;31m             \u001b[0mresult\u001b[0m \u001b[0;34m=\u001b[0m \u001b[0m_lib\u001b[0m\u001b[0;34m.\u001b[0m\u001b[0mSSL_read\u001b[0m\u001b[0;34m(\u001b[0m\u001b[0mself\u001b[0m\u001b[0;34m.\u001b[0m\u001b[0m_ssl\u001b[0m\u001b[0;34m,\u001b[0m \u001b[0mbuf\u001b[0m\u001b[0;34m,\u001b[0m \u001b[0mnbytes\u001b[0m\u001b[0;34m)\u001b[0m\u001b[0;34m\u001b[0m\u001b[0m\n\u001b[0m\u001b[1;32m   1715\u001b[0m         \u001b[0mself\u001b[0m\u001b[0;34m.\u001b[0m\u001b[0m_raise_ssl_error\u001b[0m\u001b[0;34m(\u001b[0m\u001b[0mself\u001b[0m\u001b[0;34m.\u001b[0m\u001b[0m_ssl\u001b[0m\u001b[0;34m,\u001b[0m \u001b[0mresult\u001b[0m\u001b[0;34m)\u001b[0m\u001b[0;34m\u001b[0m\u001b[0m\n\u001b[1;32m   1716\u001b[0m \u001b[0;34m\u001b[0m\u001b[0m\n",
      "\u001b[0;31mKeyboardInterrupt\u001b[0m: "
     ]
    }
   ],
   "source": [
    "technology_queryterms = [\n",
    "    'machine learning', 'deep learning', 'artificial intelligence',\n",
    "    'neural network'\n",
    "]\n",
    "\n",
    "health_queryterms = [\n",
    "    'coronary artery disease', 'chest pain', 'heart disease', 'MACE',\n",
    "    'Acute Cardiac Complications'\n",
    "]\n",
    "\n",
    "\n",
    "searcher.search([technology_queryterms, health_queryterms], start_year=2010)"
   ]
  },
  {
   "cell_type": "code",
   "execution_count": 63,
   "metadata": {},
   "outputs": [
    {
     "data": {
      "text/plain": [
       "{'@_fa': 'true',\n",
       " 'affiliation': [{'@_fa': 'true',\n",
       "   'affiliation-city': 'Kuching',\n",
       "   'affiliation-country': 'Malaysia',\n",
       "   'affilname': 'Swinburne University of Technology Sarawak Campus'}],\n",
       " 'article-number': '5636274',\n",
       " 'citedby-count': '4',\n",
       " 'dc:creator': 'Loh B.',\n",
       " 'dc:identifier': 'SCOPUS_ID:78650323248',\n",
       " 'dc:title': 'Ontology-enhanced interactive anonymization in domain-driven data mining outsourcing',\n",
       " 'eid': '2-s2.0-78650323248',\n",
       " 'link': [{'@_fa': 'true',\n",
       "   '@href': 'https://api.elsevier.com/content/abstract/scopus_id/78650323248',\n",
       "   '@ref': 'self'},\n",
       "  {'@_fa': 'true',\n",
       "   '@href': 'https://api.elsevier.com/content/abstract/scopus_id/78650323248?field=author,affiliation',\n",
       "   '@ref': 'author-affiliation'},\n",
       "  {'@_fa': 'true',\n",
       "   '@href': 'https://www.scopus.com/inward/record.uri?partnerID=HzOxMe3b&scp=78650323248&origin=inward',\n",
       "   '@ref': 'scopus'},\n",
       "  {'@_fa': 'true',\n",
       "   '@href': 'https://www.scopus.com/inward/citedby.uri?partnerID=HzOxMe3b&scp=78650323248&origin=inward',\n",
       "   '@ref': 'scopus-citedby'}],\n",
       " 'openaccess': '0',\n",
       " 'openaccessFlag': False,\n",
       " 'prism:aggregationType': 'Conference Proceeding',\n",
       " 'prism:coverDate': '2010-12-27',\n",
       " 'prism:coverDisplayDate': '2010',\n",
       " 'prism:doi': '10.1109/ISDPE.2010.7',\n",
       " 'prism:isbn': '9780769542034',\n",
       " 'prism:pageRange': '9-14',\n",
       " 'prism:publicationName': 'Proceedings - 2nd International Symposium on Data, Privacy, and E-Commerce, ISDPE 2010',\n",
       " 'prism:url': 'https://api.elsevier.com/content/abstract/scopus_id/78650323248',\n",
       " 'source-id': '19700183039',\n",
       " 'subtype': 'cp',\n",
       " 'subtypeDescription': 'Conference Paper'}"
      ]
     },
     "execution_count": 63,
     "metadata": {},
     "output_type": "execute_result"
    }
   ],
   "source": [
    "searcher.results[10]"
   ]
  },
  {
   "cell_type": "code",
   "execution_count": 54,
   "metadata": {},
   "outputs": [],
   "source": [
    "from functools import reduce\n",
    "from datetime import date"
   ]
  },
  {
   "cell_type": "code",
   "execution_count": 55,
   "metadata": {},
   "outputs": [
    {
     "name": "stdout",
     "output_type": "stream",
     "text": [
      "None\n"
     ]
    },
    {
     "ename": "TypeError",
     "evalue": "string indices must be integers",
     "output_type": "error",
     "traceback": [
      "\u001b[0;31m---------------------------------------------------------------------------\u001b[0m",
      "\u001b[0;31mTypeError\u001b[0m                                 Traceback (most recent call last)",
      "\u001b[0;32m<ipython-input-55-d18ee196d7d0>\u001b[0m in \u001b[0;36m<module>\u001b[0;34m()\u001b[0m\n\u001b[1;32m      8\u001b[0m         \u001b[0mauthors\u001b[0m \u001b[0;34m=\u001b[0m \u001b[0;32mNone\u001b[0m\u001b[0;34m\u001b[0m\u001b[0m\n\u001b[1;32m      9\u001b[0m     \u001b[0mprint\u001b[0m\u001b[0;34m(\u001b[0m\u001b[0mauthors\u001b[0m\u001b[0;34m)\u001b[0m\u001b[0;34m\u001b[0m\u001b[0m\n\u001b[0;32m---> 10\u001b[0;31m     \u001b[0mprint\u001b[0m\u001b[0;34m(\u001b[0m\u001b[0mdatetime\u001b[0m\u001b[0;34m.\u001b[0m\u001b[0mstrptime\u001b[0m\u001b[0;34m(\u001b[0m\u001b[0mitem\u001b[0m\u001b[0;34m[\u001b[0m\u001b[0;34m'prism:coverDate'\u001b[0m\u001b[0;34m]\u001b[0m\u001b[0;34m[\u001b[0m\u001b[0;36m0\u001b[0m\u001b[0;34m]\u001b[0m\u001b[0;34m[\u001b[0m\u001b[0;34m'$'\u001b[0m\u001b[0;34m]\u001b[0m\u001b[0;34m,\u001b[0m \u001b[0;34m'%Y-%m-%d'\u001b[0m\u001b[0;34m)\u001b[0m\u001b[0;34m)\u001b[0m\u001b[0;34m\u001b[0m\u001b[0m\n\u001b[0m",
      "\u001b[0;31mTypeError\u001b[0m: string indices must be integers"
     ]
    }
   ],
   "source": [
    "for item in searcher.results:\n",
    "    \n",
    "    try:\n",
    "        authors = item.get('authors').get('author')\n",
    "\n",
    "        authors = reduce((lambda x, y: f\"{x}; {y['given-name']} {y['surname']}\"), authors[1:], f\"{authors[0]['given-name']} {authors[0]['surname']}\")\n",
    "    except:\n",
    "        authors = None\n",
    "    print(authors)\n",
    "    print(datetime.strptime(item['prism:coverDate'][0]['$'], '%Y-%m-%d'))"
   ]
  },
  {
   "cell_type": "code",
   "execution_count": 16,
   "metadata": {},
   "outputs": [],
   "source": [
    "from abc import ABC, abstractmethod\n",
    "\n",
    "\n",
    "class AbstractSerializer(ABC):\n",
    "    @abstractmethod\n",
    "    def parse(self, data):\n",
    "        pass\n",
    "\n",
    "\n",
    "class ElsevierSerializer(AbstractSerializer):\n",
    "    def parse(self, data):\n",
    "        total_list = list()\n",
    "        if type(data)==list:\n",
    "            for item in data:\n",
    "                total_list.append(self.parse_item(item))\n",
    "        else:\n",
    "            total_list.append(self.parse_item(item))\n",
    "        return total_list\n",
    "    \n",
    "    def parse_item(self, item):\n",
    "        documento = dict()\n",
    "        documento['titulo'] = item['dc:title']\n",
    "        try:\n",
    "            documento['autores'] = item['dc:creator']\n",
    "        except:\n",
    "            print(item)\n",
    "        documento['doi'] = item['prism:doi']\n",
    "        documento['revista'] = item['prism:publicationName']\n",
    "        documento['html_url'] = item['prism:url']\n",
    "#         documento['citado_papers'] = item['citedby-count']\n",
    "#         documento['data'] = item['prism:coverDate']\n",
    "        return documento"
   ]
  },
  {
   "cell_type": "code",
   "execution_count": 18,
   "metadata": {},
   "outputs": [
    {
     "name": "stdout",
     "output_type": "stream",
     "text": [
      "{'@_fa': 'true', 'link': [{'@_fa': 'true', '@ref': 'self', '@href': 'https://api.elsevier.com/content/article/pii/S0165011410003325'}, {'@_fa': 'true', '@ref': 'scidir', '@href': 'https://www.sciencedirect.com/science/article/pii/S0165011410003325'}], 'dc:identifier': 'DOI:10.1016/j.fss.2010.08.009', 'eid': '1-s2.0-S0165011410003325', 'prism:url': 'https://api.elsevier.com/content/article/pii/S0165011410003325', 'dc:title': 'Recent Literature', 'prism:publicationName': 'Fuzzy Sets and Systems', 'prism:issueName': 'Theme: Algebraic Aspects of Fuzzy Sets', 'prism:issn': '01650114', 'prism:volume': '161', 'prism:issueIdentifier': '24', 'prism:coverDate': [{'@_fa': 'true', '$': '2010-12-16'}], 'prism:coverDisplayDate': '16 December 2010', 'prism:startingPage': '3174', 'prism:endingPage': '3181', 'prism:doi': '10.1016/j.fss.2010.08.009', 'openaccess': '0', 'openaccessArticle': False, 'openArchiveArticle': False, 'openaccessUserLicense': None, 'pii': 'S0165-0114(10)00332-5', 'prism:teaser': None}\n",
      "{'@_fa': 'true', 'link': [{'@_fa': 'true', '@ref': 'self', '@href': 'https://api.elsevier.com/content/article/pii/S0914508710001930'}, {'@_fa': 'true', '@ref': 'scidir', '@href': 'https://www.sciencedirect.com/science/article/pii/S0914508710001930'}], 'dc:identifier': 'DOI:10.1016/S0914-5087(10)00193-0', 'eid': '1-s2.0-S0914508710001930', 'prism:url': 'https://api.elsevier.com/content/article/pii/S0914508710001930', 'dc:title': 'Keywords list', 'prism:publicationName': 'Journal of Cardiology', 'prism:issn': '09145087', 'prism:volume': '56', 'prism:issueIdentifier': '3', 'prism:coverDate': [{'@_fa': 'true', '$': '2010-11-01'}], 'prism:coverDisplayDate': 'November 2010', 'prism:startingPage': 'VIII', 'prism:endingPage': 'X', 'prism:doi': '10.1016/S0914-5087(10)00193-0', 'openaccess': '1', 'openaccessArticle': True, 'openArchiveArticle': True, 'openaccessUserLicense': 'http://www.elsevier.com/open-access/userlicense/1.0/', 'pii': 'S0914-5087(10)00193-0', 'prism:teaser': None}\n",
      "{'@_fa': 'true', 'link': [{'@_fa': 'true', '@ref': 'self', '@href': 'https://api.elsevier.com/content/article/pii/S0302283810009759'}, {'@_fa': 'true', '@ref': 'scidir', '@href': 'https://www.sciencedirect.com/science/article/pii/S0302283810009759'}], 'dc:identifier': 'DOI:10.1016/S0302-2838(10)00975-9', 'eid': '1-s2.0-S0302283810009759', 'prism:url': 'https://api.elsevier.com/content/article/pii/S0302283810009759', 'dc:title': 'Award pages', 'prism:publicationName': 'European Urology', 'prism:issn': '03022838', 'prism:volume': '58', 'prism:issueIdentifier': '6', 'prism:coverDate': [{'@_fa': 'true', '$': '2010-12-01'}], 'prism:coverDisplayDate': 'December 2010', 'prism:startingPage': 'ii', 'prism:endingPage': 'iv', 'prism:doi': '10.1016/S0302-2838(10)00975-9', 'openaccess': '0', 'openaccessArticle': False, 'openArchiveArticle': False, 'openaccessUserLicense': None, 'pii': 'S0302-2838(10)00975-9', 'prism:teaser': None}\n",
      "{'@_fa': 'true', 'link': [{'@_fa': 'true', '@ref': 'self', '@href': 'https://api.elsevier.com/content/article/pii/S0302283810008079'}, {'@_fa': 'true', '@ref': 'scidir', '@href': 'https://www.sciencedirect.com/science/article/pii/S0302283810008079'}], 'dc:identifier': 'DOI:10.1016/S0302-2838(10)00807-9', 'eid': '1-s2.0-S0302283810008079', 'prism:url': 'https://api.elsevier.com/content/article/pii/S0302283810008079', 'dc:title': 'Award pages', 'prism:publicationName': 'European Urology', 'prism:issn': '03022838', 'prism:volume': '58', 'prism:issueIdentifier': '5', 'prism:coverDate': [{'@_fa': 'true', '$': '2010-11-01'}], 'prism:coverDisplayDate': 'November 2010', 'prism:startingPage': 'ii', 'prism:endingPage': 'iv', 'prism:doi': '10.1016/S0302-2838(10)00807-9', 'openaccess': '0', 'openaccessArticle': False, 'openArchiveArticle': False, 'openaccessUserLicense': None, 'pii': 'S0302-2838(10)00807-9', 'prism:teaser': None}\n",
      "{'@_fa': 'true', 'link': [{'@_fa': 'true', '@ref': 'self', '@href': 'https://api.elsevier.com/content/article/pii/S0302283810007633'}, {'@_fa': 'true', '@ref': 'scidir', '@href': 'https://www.sciencedirect.com/science/article/pii/S0302283810007633'}], 'dc:identifier': 'DOI:10.1016/S0302-2838(10)00763-3', 'eid': '1-s2.0-S0302283810007633', 'prism:url': 'https://api.elsevier.com/content/article/pii/S0302283810007633', 'dc:title': 'Award Pages', 'prism:publicationName': 'European Urology', 'prism:issn': '03022838', 'prism:volume': '58', 'prism:issueIdentifier': '4', 'prism:coverDate': [{'@_fa': 'true', '$': '2010-10-01'}], 'prism:coverDisplayDate': 'October 2010', 'prism:startingPage': 'ii', 'prism:endingPage': 'iv', 'prism:doi': '10.1016/S0302-2838(10)00763-3', 'openaccess': '0', 'openaccessArticle': False, 'openArchiveArticle': False, 'openaccessUserLicense': None, 'pii': 'S0302-2838(10)00763-3', 'prism:teaser': None}\n",
      "{'@_fa': 'true', 'link': [{'@_fa': 'true', '@ref': 'self', '@href': 'https://api.elsevier.com/content/article/pii/S0302283810006251'}, {'@_fa': 'true', '@ref': 'scidir', '@href': 'https://www.sciencedirect.com/science/article/pii/S0302283810006251'}], 'dc:identifier': 'DOI:10.1016/S0302-2838(10)00625-1', 'eid': '1-s2.0-S0302283810006251', 'prism:url': 'https://api.elsevier.com/content/article/pii/S0302283810006251', 'dc:title': 'Award pages', 'prism:publicationName': 'European Urology', 'prism:issn': '03022838', 'prism:volume': '58', 'prism:issueIdentifier': '3', 'prism:coverDate': [{'@_fa': 'true', '$': '2010-09-01'}], 'prism:coverDisplayDate': 'September 2010', 'prism:startingPage': 'ii', 'prism:endingPage': 'iv', 'prism:doi': '10.1016/S0302-2838(10)00625-1', 'openaccess': '0', 'openaccessArticle': False, 'openArchiveArticle': False, 'openaccessUserLicense': None, 'pii': 'S0302-2838(10)00625-1', 'prism:teaser': None}\n",
      "{'@_fa': 'true', 'link': [{'@_fa': 'true', '@ref': 'self', '@href': 'https://api.elsevier.com/content/article/pii/S0302283810004987'}, {'@_fa': 'true', '@ref': 'scidir', '@href': 'https://www.sciencedirect.com/science/article/pii/S0302283810004987'}], 'dc:identifier': 'DOI:10.1016/S0302-2838(10)00498-7', 'eid': '1-s2.0-S0302283810004987', 'prism:url': 'https://api.elsevier.com/content/article/pii/S0302283810004987', 'dc:title': 'Award pages', 'prism:publicationName': 'European Urology', 'prism:issn': '03022838', 'prism:volume': '58', 'prism:issueIdentifier': '2', 'prism:coverDate': [{'@_fa': 'true', '$': '2010-08-01'}], 'prism:coverDisplayDate': 'August 2010', 'prism:startingPage': 'ii', 'prism:endingPage': 'iv', 'prism:doi': '10.1016/S0302-2838(10)00498-7', 'openaccess': '0', 'openaccessArticle': False, 'openArchiveArticle': False, 'openaccessUserLicense': None, 'pii': 'S0302-2838(10)00498-7', 'prism:teaser': None}\n",
      "{'@_fa': 'true', 'link': [{'@_fa': 'true', '@ref': 'self', '@href': 'https://api.elsevier.com/content/article/pii/S0301562910005922'}, {'@_fa': 'true', '@ref': 'scidir', '@href': 'https://www.sciencedirect.com/science/article/pii/S0301562910005922'}], 'dc:identifier': 'DOI:10.1016/S0301-5629(10)00592-2', 'eid': '1-s2.0-S0301562910005922', 'prism:url': 'https://api.elsevier.com/content/article/pii/S0301562910005922', 'dc:title': 'Subject Index', 'prism:publicationName': 'Ultrasound in Medicine & Biology', 'prism:issn': '03015629', 'prism:volume': '36', 'prism:issueIdentifier': '12', 'prism:coverDate': [{'@_fa': 'true', '$': '2010-12-01'}], 'prism:coverDisplayDate': 'December 2010', 'prism:startingPage': 'e1', 'prism:endingPage': 'e34', 'prism:doi': '10.1016/S0301-5629(10)00592-2', 'openaccess': '0', 'openaccessArticle': False, 'openArchiveArticle': False, 'openaccessUserLicense': None, 'pii': 'S0301-5629(10)00592-2', 'prism:teaser': None}\n",
      "{'@_fa': 'true', 'link': [{'@_fa': 'true', '@ref': 'self', '@href': 'https://api.elsevier.com/content/article/pii/S0889852910000599'}, {'@_fa': 'true', '@ref': 'scidir', '@href': 'https://www.sciencedirect.com/science/article/pii/S0889852910000599'}], 'dc:identifier': 'DOI:10.1016/S0889-8529(10)00059-9', 'eid': '1-s2.0-S0889852910000599', 'prism:url': 'https://api.elsevier.com/content/article/pii/S0889852910000599', 'dc:title': 'Index', 'prism:publicationName': 'Endocrinology and Metabolism Clinics of North America', 'prism:issueName': 'Type I Diabetes', 'prism:issn': '08898529', 'prism:volume': '39', 'prism:issueIdentifier': '3', 'prism:coverDate': [{'@_fa': 'true', '$': '2010-09-01'}], 'prism:coverDisplayDate': 'September 2010', 'prism:startingPage': '669', 'prism:endingPage': '695', 'prism:doi': '10.1016/S0889-8529(10)00059-9', 'openaccess': '0', 'openaccessArticle': False, 'openArchiveArticle': False, 'openaccessUserLicense': None, 'pii': 'S0889-8529(10)00059-9', 'prism:teaser': None}\n",
      "{'@_fa': 'true', 'link': [{'@_fa': 'true', '@ref': 'self', '@href': 'https://api.elsevier.com/content/article/pii/S1550830710000947'}, {'@_fa': 'true', '@ref': 'scidir', '@href': 'https://www.sciencedirect.com/science/article/pii/S1550830710000947'}], 'dc:identifier': 'DOI:10.1016/j.explore.2010.04.004', 'eid': '1-s2.0-S1550830710000947', 'prism:url': 'https://api.elsevier.com/content/article/pii/S1550830710000947', 'dc:title': 'A Challenge to Science', 'prism:publicationName': 'EXPLORE: The Journal of Science and Healing', 'prism:issn': '15508307', 'prism:volume': '6', 'prism:issueIdentifier': '4', 'prism:coverDate': [{'@_fa': 'true', '$': '2010-07-01'}], 'prism:coverDisplayDate': 'July–August 2010', 'prism:startingPage': '197', 'prism:endingPage': '214', 'prism:doi': '10.1016/j.explore.2010.04.004', 'openaccess': '0', 'openaccessArticle': False, 'openArchiveArticle': False, 'openaccessUserLicense': None, 'pubType': 'Explorations', 'pii': 'S1550-8307(10)00094-7', 'prism:teaser': None}\n",
      "{'@_fa': 'true', 'link': [{'@_fa': 'true', '@ref': 'self', '@href': 'https://api.elsevier.com/content/article/pii/S1547527110002729'}, {'@_fa': 'true', '@ref': 'scidir', '@href': 'https://www.sciencedirect.com/science/article/pii/S1547527110002729'}], 'dc:identifier': 'DOI:10.1016/j.hrthm.2010.03.030', 'eid': '1-s2.0-S1547527110002729', 'prism:url': 'https://api.elsevier.com/content/article/pii/S1547527110002729', 'dc:title': 'Poster Session 2 (PO2-01 to PO2-171)', 'prism:publicationName': 'Heart Rhythm', 'prism:issueName': 'Heart Rhythm 2010', 'prism:issn': '15475271', 'prism:volume': '7', 'prism:issueIdentifier': '5', 'prism:coverDate': [{'@_fa': 'true', '$': '2010-05-01'}], 'prism:coverDisplayDate': 'May 2010', 'prism:startingPage': 'S131', 'prism:endingPage': 'S195', 'prism:doi': '10.1016/j.hrthm.2010.03.030', 'openaccess': '0', 'openaccessArticle': False, 'openArchiveArticle': False, 'openaccessUserLicense': None, 'pubType': 'Featured poster', 'pii': 'S1547-5271(10)00272-9', 'prism:teaser': None}\n",
      "{'@_fa': 'true', 'link': [{'@_fa': 'true', '@ref': 'self', '@href': 'https://api.elsevier.com/content/article/pii/S0015028210007077'}, {'@_fa': 'true', '@ref': 'scidir', '@href': 'https://www.sciencedirect.com/science/article/pii/S0015028210007077'}], 'dc:identifier': 'DOI:10.1016/S0015-0282(10)00707-7', 'eid': '1-s2.0-S0015028210007077', 'prism:url': 'https://api.elsevier.com/content/article/pii/S0015028210007077', 'dc:title': 'Author Index to Volume 93', 'prism:publicationName': 'Fertility and Sterility', 'prism:issn': '00150282', 'prism:volume': '93', 'prism:issueIdentifier': '8', 'prism:coverDate': [{'@_fa': 'true', '$': '2010-05-15'}], 'prism:coverDisplayDate': '15 May 2010', 'prism:startingPage': '2774', 'prism:endingPage': '2800', 'prism:doi': '10.1016/S0015-0282(10)00707-7', 'openaccess': '0', 'openaccessArticle': False, 'openArchiveArticle': False, 'openaccessUserLicense': None, 'pubType': 'Index', 'pii': 'S0015-0282(10)00707-7', 'prism:teaser': None}\n",
      "{'@_fa': 'true', 'link': [{'@_fa': 'true', '@ref': 'self', '@href': 'https://api.elsevier.com/content/article/pii/S0167814010800362'}, {'@_fa': 'true', '@ref': 'scidir', '@href': 'https://www.sciencedirect.com/science/article/pii/S0167814010800362'}], 'dc:identifier': 'DOI:10.1016/S0167-8140(10)80036-2', 'eid': '1-s2.0-S0167814010800362', 'prism:url': 'https://api.elsevier.com/content/article/pii/S0167814010800362', 'dc:title': 'Symposium', 'prism:publicationName': 'Radiotherapy and Oncology', 'prism:issueName': 'ESTRO 29', 'prism:issn': '01678140', 'prism:volume': '96', 'prism:issueIdentifier': None, 'prism:coverDate': [{'@_fa': 'true', '$': '2010-09-01'}], 'prism:coverDisplayDate': 'September 2010', 'prism:startingPage': 'S103', 'prism:endingPage': 'S111', 'prism:doi': '10.1016/S0167-8140(10)80036-2', 'openaccess': '0', 'openaccessArticle': False, 'openArchiveArticle': False, 'openaccessUserLicense': None, 'pii': 'S0167-8140(10)80036-2', 'prism:teaser': None}\n",
      "{'@_fa': 'true', 'link': [{'@_fa': 'true', '@ref': 'self', '@href': 'https://api.elsevier.com/content/article/pii/S1424390310800869'}, {'@_fa': 'true', '@ref': 'scidir', '@href': 'https://www.sciencedirect.com/science/article/pii/S1424390310800869'}], 'dc:identifier': 'DOI:10.1159/000314328', 'eid': '1-s2.0-S1424390310800869', 'prism:url': 'https://api.elsevier.com/content/article/pii/S1424390310800869', 'dc:title': '42nd European Pancreatic Club (EPC) Meeting Abstracts June 16-19, 2010, Stockholm, Sweden', 'prism:publicationName': 'Pancreatology', 'prism:issn': '14243903', 'prism:volume': '10', 'prism:issueIdentifier': '2', 'prism:coverDate': [{'@_fa': 'true', '$': '2010-06-01'}], 'prism:coverDisplayDate': 'June 2010', 'prism:startingPage': '259', 'prism:endingPage': '400', 'prism:doi': '10.1159/000314328', 'openaccess': '0', 'openaccessArticle': False, 'openArchiveArticle': False, 'openaccessUserLicense': None, 'pii': 'S1424-3903(10)80086-9', 'prism:teaser': None}\n",
      "{'@_fa': 'true', 'link': [{'@_fa': 'true', '@ref': 'self', '@href': 'https://api.elsevier.com/content/article/pii/S0006322310002374'}, {'@_fa': 'true', '@ref': 'scidir', '@href': 'https://www.sciencedirect.com/science/article/pii/S0006322310002374'}], 'dc:identifier': 'DOI:10.1016/j.biopsych.2010.03.009', 'eid': '1-s2.0-S0006322310002374', 'prism:url': 'https://api.elsevier.com/content/article/pii/S0006322310002374', 'dc:title': 'Saturday Abstracts', 'prism:publicationName': 'Biological Psychiatry', 'prism:issueName': 'Sixty-Fifth Annual Scientific Convention and Meeting', 'prism:issn': '00063223', 'prism:volume': '67', 'prism:issueIdentifier': '9', 'prism:coverDate': [{'@_fa': 'true', '$': '2010-05-01'}], 'prism:coverDisplayDate': '1 May 2010', 'prism:startingPage': '178S', 'prism:endingPage': '271S', 'prism:doi': '10.1016/j.biopsych.2010.03.009', 'openaccess': '0', 'openaccessArticle': False, 'openArchiveArticle': False, 'openaccessUserLicense': None, 'pubType': 'Abstract', 'pii': 'S0006-3223(10)00237-4', 'prism:teaser': None}\n",
      "{'@_fa': 'true', 'link': [{'@_fa': 'true', '@ref': 'self', '@href': 'https://api.elsevier.com/content/article/pii/S0748798310001563'}, {'@_fa': 'true', '@ref': 'scidir', '@href': 'https://www.sciencedirect.com/science/article/pii/S0748798310001563'}], 'dc:identifier': 'DOI:10.1016/S0748-7983(10)00156-3', 'eid': '1-s2.0-S0748798310001563', 'prism:url': 'https://api.elsevier.com/content/article/pii/S0748798310001563', 'dc:title': 'Abstracts', 'prism:publicationName': 'European Journal of Surgical Oncology (EJSO)', 'prism:issueName': '15th Congress of the European Society of Surgical Oncology', 'prism:issn': '07487983', 'prism:volume': '36', 'prism:issueIdentifier': '9', 'prism:coverDate': [{'@_fa': 'true', '$': '2010-09-01'}], 'prism:coverDisplayDate': 'September 2010', 'prism:startingPage': '795', 'prism:endingPage': '932', 'prism:doi': '10.1016/S0748-7983(10)00156-3', 'openaccess': '0', 'openaccessArticle': False, 'openArchiveArticle': False, 'openaccessUserLicense': None, 'pii': 'S0748-7983(10)00156-3', 'prism:teaser': None}\n",
      "{'@_fa': 'true', 'link': [{'@_fa': 'true', '@ref': 'self', '@href': 'https://api.elsevier.com/content/article/pii/S1201971210000342'}, {'@_fa': 'true', '@ref': 'scidir', '@href': 'https://www.sciencedirect.com/science/article/pii/S1201971210000342'}], 'dc:identifier': 'DOI:10.1016/j.ijid.2010.02.002', 'eid': '1-s2.0-S1201971210000342', 'prism:url': 'https://api.elsevier.com/content/article/pii/S1201971210000342', 'dc:title': 'Abstracts for Supplement', 'prism:publicationName': 'International Journal of Infectious Diseases', 'prism:issueName': '14th International Congress on Infectious Diseases (ICID) Abstracts', 'prism:issn': '12019712', 'prism:volume': '14', 'prism:issueIdentifier': None, 'prism:coverDate': [{'@_fa': 'true', '$': '2010-03-01'}], 'prism:coverDisplayDate': 'March 2010', 'prism:startingPage': 'e335', 'prism:endingPage': 'e478', 'prism:doi': '10.1016/j.ijid.2010.02.002', 'openaccess': '1', 'openaccessArticle': True, 'openArchiveArticle': True, 'openaccessUserLicense': 'http://www.elsevier.com/open-access/userlicense/1.0/', 'pii': 'S1201-9712(10)00034-2', 'prism:teaser': None}\n",
      "{'@_fa': 'true', 'link': [{'@_fa': 'true', '@ref': 'self', '@href': 'https://api.elsevier.com/content/article/pii/S1201971210000330'}, {'@_fa': 'true', '@ref': 'scidir', '@href': 'https://www.sciencedirect.com/science/article/pii/S1201971210000330'}], 'dc:identifier': 'DOI:10.1016/j.ijid.2010.02.001', 'eid': '1-s2.0-S1201971210000330', 'prism:url': 'https://api.elsevier.com/content/article/pii/S1201971210000330', 'dc:title': 'Abstracts for Supplement', 'prism:publicationName': 'International Journal of Infectious Diseases', 'prism:issueName': '14th International Congress on Infectious Diseases (ICID) Abstracts', 'prism:issn': '12019712', 'prism:volume': '14', 'prism:issueIdentifier': None, 'prism:coverDate': [{'@_fa': 'true', '$': '2010-03-01'}], 'prism:coverDisplayDate': 'March 2010', 'prism:startingPage': 'e191', 'prism:endingPage': 'e335', 'prism:doi': '10.1016/j.ijid.2010.02.001', 'openaccess': '1', 'openaccessArticle': True, 'openArchiveArticle': True, 'openaccessUserLicense': 'http://www.elsevier.com/open-access/userlicense/1.0/', 'pii': 'S1201-9712(10)00033-0', 'prism:teaser': None}\n"
     ]
    }
   ],
   "source": [
    "serializer = ElsevierSerializer()\n",
    "filtered = serializer.parse(searcher.results)"
   ]
  },
  {
   "cell_type": "code",
   "execution_count": 21,
   "metadata": {},
   "outputs": [
    {
     "data": {
      "text/plain": [
       "[{'doi': '10.1016/S0302-2838(10)00975-9',\n",
       "  'html_url': 'https://api.elsevier.com/content/article/pii/S0302283810009759',\n",
       "  'revista': 'European Urology',\n",
       "  'titulo': 'Award pages'},\n",
       " {'doi': '10.1016/S0302-2838(10)00807-9',\n",
       "  'html_url': 'https://api.elsevier.com/content/article/pii/S0302283810008079',\n",
       "  'revista': 'European Urology',\n",
       "  'titulo': 'Award pages'},\n",
       " {'doi': '10.1016/S0302-2838(10)00625-1',\n",
       "  'html_url': 'https://api.elsevier.com/content/article/pii/S0302283810006251',\n",
       "  'revista': 'European Urology',\n",
       "  'titulo': 'Award pages'},\n",
       " {'doi': '10.1016/S0302-2838(10)00498-7',\n",
       "  'html_url': 'https://api.elsevier.com/content/article/pii/S0302283810004987',\n",
       "  'revista': 'European Urology',\n",
       "  'titulo': 'Award pages'}]"
      ]
     },
     "execution_count": 21,
     "metadata": {},
     "output_type": "execute_result"
    }
   ],
   "source": [
    "[x for x in filtered if x['titulo']=='Award pages']"
   ]
  },
  {
   "cell_type": "code",
   "execution_count": null,
   "metadata": {},
   "outputs": [],
   "source": []
  }
 ],
 "metadata": {
  "kernelspec": {
   "display_name": "Python 3",
   "language": "python",
   "name": "python3"
  },
  "language_info": {
   "codemirror_mode": {
    "name": "ipython",
    "version": 3
   },
   "file_extension": ".py",
   "mimetype": "text/x-python",
   "name": "python",
   "nbconvert_exporter": "python",
   "pygments_lexer": "ipython3",
   "version": "3.6.3"
  }
 },
 "nbformat": 4,
 "nbformat_minor": 2
}
