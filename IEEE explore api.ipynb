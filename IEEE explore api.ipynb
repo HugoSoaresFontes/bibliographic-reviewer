{
 "cells": [
  {
   "cell_type": "markdown",
   "metadata": {},
   "source": [
    "## Simple Request Example\n",
    "\n",
    "Example of a simple request searching for the combination Machine AND (boolean) coronary learning in the configured metadata fields and abstracts of the articles in the database."
   ]
  },
  {
   "cell_type": "code",
   "execution_count": 36,
   "metadata": {},
   "outputs": [
    {
     "name": "stdout",
     "output_type": "stream",
     "text": [
      "url: \n",
      " http://ieeexploreapi.ieee.org/api/v1/search/articles?apikey=8m22c725rj99bvxq6pftexqk&meta_data=((Machine%20Learning)%20AND%20coronary)&max_records=200\n",
      "chaves \n",
      " dict_keys(['total_records', 'articles', 'total_searched'])\n",
      "Total Records: 64\n",
      "Total de recebidos: 64\n"
     ]
    }
   ],
   "source": [
    "import requests\n",
    "\n",
    "apikey = 'apikey=8m22c725rj99bvxq6pftexqk'\n",
    "address = 'http://ieeexploreapi.ieee.org/api/v1/search/articles?'\n",
    "querytext = '&meta_data=((Machine%20Learning)%20AND%20coronary)'\n",
    "maxrecords = \"&max_records=200\"\n",
    "\n",
    "url = address + apikey + querytext + maxrecords\n",
    "\n",
    "r = requests.get(url)\n",
    "\n",
    "print(\"url: \\n\", r.url)\n",
    "print(\"chaves \\n\", r.json().keys())\n",
    "print(\"Total Records:\", r.json().get('total_records'))\n",
    "print(\"Total de recebidos:\",len(r.json().get('articles')))\n"
   ]
  },
  {
   "cell_type": "markdown",
   "metadata": {},
   "source": [
    "## IEEE_Xplore_Searcher class\n",
    "\n",
    "Articles search class for IEEE Explore database using your api. "
   ]
  },
  {
   "cell_type": "code",
   "execution_count": 25,
   "metadata": {},
   "outputs": [],
   "source": [
    "import requests\n",
    "\n",
    "class IEEE_Xplore_Searcher():\n",
    "    apikey = '8m22c725rj99bvxq6pftexqk'\n",
    "    address = 'http://ieeexploreapi.ieee.org/api/v1/search/articles?'\n",
    "    \n",
    "    def __init__(self, queryterms: list=None, apikey: str=None, address: str=None): \n",
    "        if queryterms: \n",
    "            self.queryterms = queryterms\n",
    "        if apikey: \n",
    "            self.apikey = apikey\n",
    "        if address: \n",
    "            self.address = address\n",
    "            \n",
    "    def search(self, queryterms: list=None, search_type: str=\"meta_data\",\n",
    "                    start_year: int=None, end_year: int=None,\n",
    "                    content_type: str=None, start_record: int=None, \n",
    "                    sort_field: str=None, sort_order: int=None, \n",
    "                    max_records: int=200, article_title: str=None,\n",
    "                    author: str=None):\n",
    "        \"\"\"\n",
    "        @param queryterms: list of lists. Terms within the same list are\n",
    "            separated by an OR. Lists are separated by an AND\n",
    "        @param search_type: meta_data or querytext. \n",
    "            meta_data: This field enables a free-text search of all \n",
    "                configured metadata fields and the abstract. Accepts \n",
    "                complex queries involving field names and  boolean \n",
    "                operators.\n",
    "            querytext: This field enables a free-text search of all \n",
    "                configured metadata fields, abstract and document text. \n",
    "                Accepts complex queries involving field names and boolean \n",
    "                operators. \n",
    "        @param start_year: Start value of Publication Year to restrict results by.\n",
    "        @param end_year: End value of Publication Year to restrict results by.\n",
    "        @param content_type: Note: these are case sensitive and must be spelled as \n",
    "            presented here to get a result: Journals, Conference, Early Access,\n",
    "            Standards, Books, Courses\n",
    "        @param start_record: Sequence number of first record to fetch. Default: 1\n",
    "        @param sort_field: Field name on which to sort. Choose from: article_number\n",
    "            article_title, author, publication_title, publication_year\n",
    "        @param sort_order: asc (for ascending sort) or desc (for descending sort)\n",
    "        @param max_records: The number of records to fetch. Maximum: 200\n",
    "        @param article_title: Title of an individual document (journal article, \n",
    "            conference paper, standard, eBook chapter, or course).\n",
    "        @param author: An author's name. Searches both first name and last name\n",
    "        \n",
    "        @return  the data fields returned by the search are described by the \n",
    "            following link https://developer.ieee.org/docs/read/Metadata_API_responses\n",
    "        \"\"\"\n",
    "        \n",
    "        if not queryterms: \n",
    "            queryterms = self.queryterms\n",
    "        \n",
    "        formated_query = \"(\"\n",
    "        for index_group, group in enumerate(queryterms):\n",
    "            if index_group > 0: \n",
    "                formated_query += '%20AND%20('\n",
    "    #         else: \n",
    "    # #             formated_query += '('\n",
    "            for index_term, term in enumerate(group): \n",
    "                if index_term > 0: \n",
    "                    formated_query += '%20OR%20'\n",
    "                if ' ' in term: \n",
    "                    formated_query += '('\n",
    "                formated_query += term.replace(' ', \"%20\")\n",
    "                if ' ' in term: \n",
    "                    formated_query += ')'\n",
    "\n",
    "                if (index_term + 1) == len(group):\n",
    "                    formated_query += ')'\n",
    "\n",
    "        url = self.address + 'apikey=' + self.apikey  \n",
    "        if search_type == \"meta_data\":\n",
    "            url += '&meta_data=' + formated_query\n",
    "        elif search_type == \"querytext\": \n",
    "            url += '&querytext=' + formated_query\n",
    "\n",
    "        if start_year: \n",
    "            url += '&start_year=' + str(start_year)\n",
    "        if end_year: \n",
    "            url += '&end_year=' + str(end_year)\n",
    "        if content_type: \n",
    "            url += '&content_type=' + content_type\n",
    "        if start_record: \n",
    "            url += '&start_record=' + start_record\n",
    "        if sort_field: \n",
    "            url += '&sort_field=' + sort_field \n",
    "        if sort_order: \n",
    "            url += '&sort_order=' + sort_order\n",
    "        if max_records: \n",
    "            url += '&max_records=' + str(max_records)\n",
    "        if article_title: \n",
    "            url += '&article_title=' + article_title\n",
    "        if author: \n",
    "            url += '&author=' + author\n",
    "\n",
    "        return requests.get(url)\n"
   ]
  },
  {
   "cell_type": "markdown",
   "metadata": {},
   "source": [
    "## Using the IEEE_Xplore_Searcher class"
   ]
  },
  {
   "cell_type": "code",
   "execution_count": 38,
   "metadata": {},
   "outputs": [
    {
     "name": "stdout",
     "output_type": "stream",
     "text": [
      "url: \n",
      " http://ieeexploreapi.ieee.org/api/v1/search/articles?apikey=8m22c725rj99bvxq6pftexqk&meta_data=((machine%20learning)%20OR%20(deep%20learning)%20OR%20(artificial%20intelligence)%20OR%20(neural%20network)%20OR%20(scoring%20system))%20AND%20((coronary%20artery%20disease)%20OR%20(chest%20pain)%20OR%20(heart%20disease)%20OR%20MACE%20OR%20(Acute%20Cardiac%20Complications))&start_year=1975&content_type=Journals&max_records=200\n",
      "\n",
      "Total de registros: 118\n",
      "Total de recebidos: 118\n",
      "\n",
      "Informações dos artigos: \n",
      "  ['issn', 'start_page', 'volume', 'doi', 'citing_paper_count', 'authors', 'publication_number', 'pdf_url', 'abstract', 'title', 'abstract_url', 'publication_date', 'partnum', 'is_number', 'rank', 'article_number', 'end_page', 'index_terms', 'issue', 'publication_title', 'content_type', 'publisher', 'access_type']\n"
     ]
    }
   ],
   "source": [
    "technology_queryterms = [\n",
    "    'machine learning', 'deep learning', 'artificial intelligence', \n",
    "    'neural network', 'scoring system'\n",
    "]\n",
    "\n",
    "health_queryterms = [\n",
    "    'coronary artery disease', 'chest pain', 'heart disease', 'MACE', \n",
    "    'Acute Cardiac Complications'\n",
    "]\n",
    "\n",
    "queryterms = [technology_queryterms, health_queryterms]\n",
    "\n",
    "ieee_searcher = IEEE_Xplore_Searcher()\n",
    "search = ieee_searcher.search(queryterms=queryterms,\n",
    "                  start_year=1975, content_type=\"Journals\", \n",
    "                  search_type=\"meta_data\")  \n",
    "\n",
    "print(\"url: \\n\", search.url)\n",
    "print(\"\\nTotal de registros:\", search.json().get('total_records'))\n",
    "print(\"Total de recebidos:\",len(search.json().get('articles')))\n",
    "print(\"\\nInformações dos artigos: \\n \", list(search.json().get('articles')[0].keys()))\n"
   ]
  }
 ],
 "metadata": {
  "kernelspec": {
   "display_name": "Python 3",
   "language": "python",
   "name": "python3"
  },
  "language_info": {
   "codemirror_mode": {
    "name": "ipython",
    "version": 3
   },
   "file_extension": ".py",
   "mimetype": "text/x-python",
   "name": "python",
   "nbconvert_exporter": "python",
   "pygments_lexer": "ipython3",
   "version": "3.5.2"
  }
 },
 "nbformat": 4,
 "nbformat_minor": 2
}
