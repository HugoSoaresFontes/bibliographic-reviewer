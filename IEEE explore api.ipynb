{
 "cells": [
  {
   "cell_type": "markdown",
   "metadata": {},
   "source": [
    "## Exemplo de Requisição\n",
    "\n",
    "Exemplo de requisão simples pesquisando pela combinação Machine Learning AND coronary.\n"
   ]
  },
  {
   "cell_type": "code",
   "execution_count": 106,
   "metadata": {},
   "outputs": [
    {
     "name": "stdout",
     "output_type": "stream",
     "text": [
      "url: \n",
      " http://ieeexploreapi.ieee.org/api/v1/search/articles?apikey=8m22c725rj99bvxq6pftexqk&querytext=((Machine%20Learning)%20AND%20coronary)\n",
      "chaves \n",
      " dict_keys(['total_records', 'articles', 'total_searched'])\n",
      "Total de registros: 1844\n",
      "Total de recebidos: 25\n"
     ]
    }
   ],
   "source": [
    "import requests\n",
    "\n",
    "apikey = 'apikey=8m22c725rj99bvxq6pftexqk'\n",
    "address = 'http://ieeexploreapi.ieee.org/api/v1/search/articles?'\n",
    "querytext = '&querytext=((Machine%20Learning)%20AND%20coronary)'\n",
    "\n",
    "url = address + apikey + querytext \n",
    "\n",
    "r = requests.get(url)\n",
    "\n",
    "print(\"url: \\n\", r.url)\n",
    "print(\"chaves \\n\", r.json().keys())\n",
    "print(\"Total de registros:\", r.json().get('total_records'))\n",
    "print(\"Total de recebidos:\",len(r.json().get('articles')))\n"
   ]
  },
  {
   "cell_type": "code",
   "execution_count": 170,
   "metadata": {},
   "outputs": [],
   "source": [
    "import requests\n",
    "\n",
    "def formart_url(address: str, apikey: str, queryterms: list, \n",
    "                start_year: int=None, end_year: int=None,\n",
    "                content_type: str=None,start_record: int=None, \n",
    "                sort_field: str=None, sort_order: int=None, \n",
    "                max_records: int=200, article_title: str=None,\n",
    "                author: str=None):\n",
    "    \"\"\"\n",
    "    @param queryterms: uma lista de listas. Os termos dentro da mesma\n",
    "        lista são separados por um OR. As listas são separadas por um AND\n",
    "    \"\"\"\n",
    "    formated_query = \"(\"\n",
    "    for index_group, group in enumerate(queryterms):\n",
    "        if index_group > 0: \n",
    "            formated_query += '%20AND%20('\n",
    "#         else: \n",
    "# #             formated_query += '('\n",
    "        for index_term, term in enumerate(group): \n",
    "            if index_term > 0: \n",
    "                formated_query += '%20OR%20'\n",
    "            if ' ' in term: \n",
    "                formated_query += '('\n",
    "            formated_query += term.replace(' ', \"%20\")\n",
    "            if ' ' in term: \n",
    "                formated_query += ')'\n",
    "            \n",
    "            if (index_term + 1) == len(group):\n",
    "                formated_query += ')'\n",
    "    \n",
    "    url = address + 'apikey=' + apikey + '&querytext=' + formated_query \n",
    "    \n",
    "    if start_year: \n",
    "        url += '&start_year=' + str(start_year)\n",
    "    if end_year: \n",
    "        url += '&end_year=' + str(end_year)\n",
    "    if content_type: \n",
    "        url += '&content_type=' + content_type\n",
    "    if start_record: \n",
    "        url += '&start_record=' + start_record\n",
    "    if sort_field: \n",
    "        url += '&sort_field=' + sort_field \n",
    "    if sort_order: \n",
    "        url += '&sort_order=' + sort_order\n",
    "    if max_records: \n",
    "        url += '&max_records=' + str(max_records)\n",
    "    if article_title: \n",
    "        url += '&article_title=' + article_title\n",
    "    if author: \n",
    "        url += '&author=' + author\n",
    "    \n",
    "    return url\n",
    "\n",
    "\n"
   ]
  },
  {
   "cell_type": "code",
   "execution_count": 171,
   "metadata": {},
   "outputs": [
    {
     "name": "stdout",
     "output_type": "stream",
     "text": [
      "url: \n",
      " http://ieeexploreapi.ieee.org/api/v1/search/articles?apikey=8m22c725rj99bvxq6pftexqk&querytext=((machine%20learning)%20OR%20(deep%20learning)%20OR%20(artificial%20intelligence)%20OR%20(neural%20network))%20AND%20(coronary%20OR%20(chest%20pain)%20OR%20(heart%20disease)%20OR%20MACE%20OR%20(Acute%20Cardiac%20Complications))&start_year=2008&content_type=Journals&max_records=200\n",
      "\n",
      "chaves: \n",
      " dict_keys(['total_records', 'articles', 'total_searched'])\n",
      "\n",
      "Total de registros: 2259\n",
      "Total de recebidos: 200\n",
      "\n",
      "Informações dos artigos: \n",
      "  dict_keys(['pdf_url', 'issue', 'index_terms', 'citing_paper_count', 'abstract_url', 'end_page', 'authors', 'doi', 'start_page', 'volume', 'publication_date', 'abstract', 'title', 'article_number', 'publication_number', 'issn', 'rank', 'access_type', 'partnum', 'is_number', 'html_url', 'content_type', 'publisher', 'publication_title'])\n"
     ]
    }
   ],
   "source": [
    "apikey = '8m22c725rj99bvxq6pftexqk'\n",
    "address = 'http://ieeexploreapi.ieee.org/api/v1/search/articles?'\n",
    "\n",
    "technology_queryterms = [\n",
    "    'machine learning', 'deep learning', 'artificial intelligence', \n",
    "    'neural network'\n",
    "]\n",
    "\n",
    "health_queryterms = [\n",
    "    'coronary', 'chest pain', 'heart disease', 'MACE', \n",
    "    'Acute Cardiac Complications'\n",
    "]\n",
    "\n",
    "queryterms = [technology_queryterms, health_queryterms]\n",
    "\n",
    "url = formart_url(address=address, apikey=apikey, queryterms=queryterms,\n",
    "                  start_year=2008, content_type=\"Journals\")  \n",
    "\n",
    "r = requests.get(url)\n",
    "print(\"url: \\n\", r.url)\n",
    "print(\"\\nchaves: \\n\", r.json().keys())\n",
    "print(\"\\nTotal de registros:\", r.json().get('total_records'))\n",
    "print(\"Total de recebidos:\",len(r.json().get('articles')))\n",
    "print(\"\\nInformações dos artigos: \\n \", r.json().get('articles')[0].keys())\n"
   ]
  }
 ],
 "metadata": {
  "kernelspec": {
   "display_name": "Python 3",
   "language": "python",
   "name": "python3"
  },
  "language_info": {
   "codemirror_mode": {
    "name": "ipython",
    "version": 3
   },
   "file_extension": ".py",
   "mimetype": "text/x-python",
   "name": "python",
   "nbconvert_exporter": "python",
   "pygments_lexer": "ipython3",
   "version": "3.5.2"
  }
 },
 "nbformat": 4,
 "nbformat_minor": 2
}
