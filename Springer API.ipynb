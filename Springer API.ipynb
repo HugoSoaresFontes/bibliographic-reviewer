{
 "cells": [
  {
   "cell_type": "markdown",
   "metadata": {},
   "source": [
    "## Springer API Simple Request Example\n",
    "\n",
    "Example of a simple request searching for the combination Machine Learning AND (boolean) coronary in the configured metadata fields and abstracts of the articles in the database."
   ]
  },
  {
   "cell_type": "code",
   "execution_count": 46,
   "metadata": {
    "collapsed": false
   },
   "outputs": [
    {
     "name": "stdout",
     "output_type": "stream",
     "text": [
      "request: \n",
      " http://api.springer.com/meta/v1/json?q=Coronary%20AND%20Machine%20Learning&api_key=f1333dfd6f52767d0a77099010fbefbc&p=100 \n",
      "\n",
      "results:  [{'start': '1', 'recordsDisplayed': '100', 'pageLength': '100', 'total': '3493'}]\n",
      "keys: \n",
      " dict_keys(['records', 'facets', 'query', 'result', 'apiKey'])\n",
      "\n",
      "Article Fields:\n",
      "  dict_keys(['title', 'printDate', 'publicationName', 'publisher', 'copyright', 'genre', 'coverDate', 'url', 'issuetype', 'creators', 'endingPage', 'number', 'topicalCollection', 'publicationDate', 'openaccess', 'startingPage', 'journalid', 'doi', 'eissn', 'abstract', 'volume', 'identifier', 'onlineDate', 'issn'])\n"
     ]
    }
   ],
   "source": [
    "import requests\n",
    "\n",
    "adress = 'http://api.springer.com/meta/v1/json?'\n",
    "queryterms = 'q=Coronary AND Machine Learning'\n",
    "api_key = '&api_key=f1333dfd6f52767d0a77099010fbefbc'\n",
    "results_page = '&p=100'\n",
    "year = ' year:2016'\n",
    "records_type = ' type:Journal'\n",
    "\n",
    "query = queryterms\n",
    "url = adress + query + api_key + results_page\n",
    "\n",
    "r = requests.get(url)\n",
    "\n",
    "print(\"request: \\n\", r.url, \"\\n\")\n",
    "print(\"results: \", r.json()['result'])\n",
    "print(\"keys: \\n\", r.json().keys())\n",
    "\n",
    "print(\"\\nArticle Fields:\\n \", r.json().get('records')[0].keys())\n"
   ]
  },
  {
   "cell_type": "code",
   "execution_count": null,
   "metadata": {
    "collapsed": true
   },
   "outputs": [],
   "source": []
  }
 ],
 "metadata": {
  "anaconda-cloud": {},
  "kernelspec": {
   "display_name": "Python [default]",
   "language": "python",
   "name": "python3"
  },
  "language_info": {
   "codemirror_mode": {
    "name": "ipython",
    "version": 3
   },
   "file_extension": ".py",
   "mimetype": "text/x-python",
   "name": "python",
   "nbconvert_exporter": "python",
   "pygments_lexer": "ipython3",
   "version": "3.5.2"
  }
 },
 "nbformat": 4,
 "nbformat_minor": 2
}
