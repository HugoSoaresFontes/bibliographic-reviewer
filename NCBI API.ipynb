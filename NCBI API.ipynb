{
 "cells": [
  {
   "cell_type": "code",
   "execution_count": 3,
   "metadata": {},
   "outputs": [],
   "source": [
    "from abc import ABCMeta, abstractmethod\n",
    "from urllib.parse import urlencode\n",
    "import requests"
   ]
  },
  {
   "cell_type": "code",
   "execution_count": 41,
   "metadata": {},
   "outputs": [],
   "source": [
    "class NCBI_Searcher(metaclass=ABCMeta):\n",
    "    \"\"\" 'Interface' que define a utilização da API das databases da NCBI.\n",
    "    \"\"\"\n",
    "    \n",
    "    search_url = 'https://eutils.ncbi.nlm.nih.gov/entrez/eutils/esearch.fcgi'\n",
    "    meta_url = 'https://eutils.ncbi.nlm.nih.gov/entrez/eutils/esummary.fcgi'\n",
    "        \n",
    "    def search(self, queryterms: list=None, \n",
    "               retmode: str='json', retmax: int=20, retstart: int=0):\n",
    "        \"\"\"\n",
    "        Realiza uma pesquisa NCBI.\n",
    "        \n",
    "        @param queryterms: list of lists. Terms within the same list are\n",
    "            separated by an OR. Lists are separated by an AND\n",
    "        @param retmode: A forma de retorno. None será em XML.\n",
    "        @@param retmax: A quantidade de artigos por pesquisa\n",
    "        @param retstart: O 'offset' de início de retorno. Se setado\n",
    "            para zero, irá trazer os resultados a partir do primeiro.\n",
    "            Se setado para 10, irá trazer os resultados a partir do\n",
    "            décimo.\n",
    "            \n",
    "        @return: uma lista de títulos e IDs no formato [(title, id)]\n",
    "        \"\"\"\n",
    "        payload = {\"term\":self.__search_term(queryterms), \"db\":self._db, \"retmode\":retmode,\n",
    "                   \"retmax\": retmax, \"retstart\":retstart}\n",
    "        url = \"%s?%s\" % (self.search_url, urlencode(payload))\n",
    "        \n",
    "        id_list = requests.get(url).json()['esearchresult']['idlist']\n",
    "        \n",
    "        result = self.get_article_metadata(*id_list)['result']\n",
    "        \n",
    "        return [(result[uid]['title'], uid) for uid in result['uids']]\n",
    "    \n",
    "    def get_article_metadata(self, *args, retmode: str='json'):\n",
    "        \"\"\"\n",
    "        Retorna os metadados do(s) artigo(s).\n",
    "        \n",
    "        @param id: ID do artigo. O ID do artigo depende da base de dados.\n",
    "            O ID de um artigo pode ser diferente entre a PMC e a PubMed\n",
    "            por exemplo. Podem ser passados vários IDs ao mesmo tempo.\n",
    "        @param db: base de dados a ser pesquisada. Se for mais de uma,\n",
    "            pode ser separado por vírgula. As mais úteis serão:\n",
    "            pmc, pubmed\n",
    "        @param retmode: A forma de retorno. None será em XML.\n",
    "        \n",
    "        @return: o json cru retornado pela API.\n",
    "        \"\"\"\n",
    "        id_list = ','.join([str(x) for x in args])\n",
    "            \n",
    "        payload = {\"id\":id_list, \"db\":self._db, \"retmode\":retmode}\n",
    "        url = \"%s?%s\" % (self.meta_url, urlencode(payload))\n",
    "        \n",
    "        r = requests.get(url).json()\n",
    "        \n",
    "        return r\n",
    "    \n",
    "    def __search_term(self, queryterms: list, search_type: str=None):\n",
    "        \"\"\"Monta o termo de pesquisa completo para mandar para a API.\"\"\"\n",
    "        \n",
    "        if search_type in ['querytext', None]:\n",
    "            # Retorna simplesmente a busca concatenando com os OR's e AND's\n",
    "            return \"(%s)\" % \" AND \".join([\"(%s)\" % \" OR \".join(orses)for orses in queryterms])\n",
    "        \n",
    "        # Retorna concacentando com os OR'S e AND's, mas embutindo também os campos de pesquisa em cada termo\n",
    "        return \"(%s)\" % \" AND \".join([\"(%s)\" % \" OR \".join(self.__embutir_fields(orses))for orses in queryterms])\n",
    "        \n",
    "        if search_type in [None, 'querytext']:\n",
    "            # Pesquisa normal, incluindo tudo\n",
    "            return \" AND \".join([\"(%s)\" % \" OR \".join(orses)for orses in queryterms])\n",
    "    \n",
    "    def __embutir_fields(self, term: str):\n",
    "        \"\"\"Faz uma transformação, embutindo fields no termo de pesquisa.\n",
    "        Isso é para poder realizar a pesquisa em apenas alguns campos ao invés de todos.\n",
    "        \n",
    "        Exemplo: sendo self.__fields = ['title', 'abstract'],\n",
    "        a chamada \n",
    "        `self.__embutir_fields(\"machine learning\")`\n",
    "        Transforma:\n",
    "            machine learning ---> (machine learning[title] OR machine learning[abstract])\n",
    "        \"\"\"\n",
    "        \n",
    "        return \"(%s)\" % \" OR \".join([\"%s[%s]\" % (term, field) for field in self._fields])\n",
    "    \n",
    "    @property\n",
    "    @abstractmethod\n",
    "    def _fields(self):\n",
    "        \"\"\"Cada subclasse deverá definir quais serão os campos de pesquisa de cada termo.\n",
    "        O retorno deverá ser uma lista de fields.\n",
    "        Exemplo: \n",
    "        return ['title', 'abstract']\n",
    "        \"\"\"\n",
    "        pass\n",
    "    \n",
    "    @property\n",
    "    @abstractmethod\n",
    "    def _db(self):\n",
    "        \"\"\"Cada subclasse deverá definir o seu banco.\n",
    "        Exemplo: \n",
    "        return 'pmc'\n",
    "        \"\"\"\n",
    "        pass"
   ]
  },
  {
   "cell_type": "code",
   "execution_count": 42,
   "metadata": {},
   "outputs": [],
   "source": [
    "class PMC_Searcher(NCBI_Searcher):\n",
    "    \"\"\"Realiza pesquisas na base PMC.\"\"\"\n",
    "    \n",
    "    @property\n",
    "    def _fields(self):\n",
    "        return ['Abstract', 'Body - Key Terms', 'MeSH Terms']\n",
    "    \n",
    "    @property\n",
    "    def _db(self):\n",
    "        return 'pmc'"
   ]
  },
  {
   "cell_type": "code",
   "execution_count": 43,
   "metadata": {},
   "outputs": [],
   "source": [
    "technology_queryterms = [\n",
    "    'machine learning', 'deep learning', 'artificial intelligence', \n",
    "    'neural network', 'scoring system'\n",
    "]\n",
    "\n",
    "health_queryterms = [\n",
    "    'coronary artery disease', 'chest pain', 'heart disease', 'MACE', \n",
    "    'Acute Cardiac Complications'\n",
    "]\n",
    "\n",
    "queryterms = [technology_queryterms, health_queryterms]"
   ]
  },
  {
   "cell_type": "code",
   "execution_count": 46,
   "metadata": {},
   "outputs": [
    {
     "data": {
      "text/plain": [
       "['Heterogeneity of Cancer Stem Cells: Rationale for Targeting the Stem Cell Niche',\n",
       " 'Infections up to 76 days after stroke increase disability and death',\n",
       " 'Novel Approaches to the Diagnosis of Chronic Disorders of Consciousness: Detecti',\n",
       " 'Safety and tolerability of spermidine supplementation in mice and older adults w',\n",
       " 'The Role of Stress-Induced O-GlcNAc Protein Modification in the Regulation of Me',\n",
       " 'A Decade of Genetic and Metabolomic Contributions to Type 2 Diabetes Risk Predic',\n",
       " 'The Immune and Non-Immune Pathways That Drive Chronic Gastrointestinal Helminth ',\n",
       " 'Treating Depression with Transcutaneous Auricular Vagus Nerve Stimulation: State',\n",
       " 'Adherence to Mediterranean and low-fat diets among heart and lung transplant rec',\n",
       " 'Proteomic identification and characterization of hepatic glyoxalase 1 dysregulat',\n",
       " 'Oasis 2: improved online analysis of small RNA-seq data',\n",
       " 'Designing a behavioral intervention using the COM-B model and the theoretical do',\n",
       " 'Impaired β-arrestin recruitment and reduced desensitization by non-catechol agon',\n",
       " 'Health-related quality of life, anxiety, depression and impulsivity in patients ',\n",
       " 'Screening key genes for abdominal aortic aneurysm based on gene expression omnib',\n",
       " 'Prediction of post-acute care demand in medical and neurological inpatients: dia',\n",
       " 'MetaLonDA: a flexible R package for identifying time intervals of differentially',\n",
       " 'Dietary inflammatory index: a potent association with cardiovascular risk factor',\n",
       " 'An investigation into closed-loop treatment of neurological disorders based on s',\n",
       " 'Sex difference in clot lysability and association to coronary artery calcificati']"
      ]
     },
     "execution_count": 46,
     "metadata": {},
     "output_type": "execute_result"
    }
   ],
   "source": [
    "r = PMC_Searcher().search(queryterms=queryterms)\n",
    "[x[0][:80] for x in r]"
   ]
  },
  {
   "cell_type": "code",
   "execution_count": 28,
   "metadata": {},
   "outputs": [
    {
     "name": "stdout",
     "output_type": "stream",
     "text": [
      "https://eutils.ncbi.nlm.nih.gov/entrez/eutils/esearch.fcgi?db=pmc&term=machine%20learning%20AND%20acute%20coronary%20syndrome%20AND%20help&tool=my_tool&email=my_email@example.com&retmode=json\n"
     ]
    }
   ],
   "source": [
    "print('https://eutils.ncbi.nlm.nih.gov/entrez/eutils/esearch.fcgi?db=pmc&term=machine%20learning%20AND%20acute%20coronary%20syndrome%20AND%20help&tool=my_tool&email=my_email@example.com&retmode=json')"
   ]
  },
  {
   "cell_type": "code",
   "execution_count": null,
   "metadata": {},
   "outputs": [],
   "source": []
  }
 ],
 "metadata": {
  "anaconda-cloud": {},
  "kernelspec": {
   "display_name": "Python 3",
   "language": "python",
   "name": "python3"
  },
  "language_info": {
   "codemirror_mode": {
    "name": "ipython",
    "version": 3
   },
   "file_extension": ".py",
   "mimetype": "text/x-python",
   "name": "python",
   "nbconvert_exporter": "python",
   "pygments_lexer": "ipython3",
   "version": "3.6.3"
  }
 },
 "nbformat": 4,
 "nbformat_minor": 2
}
