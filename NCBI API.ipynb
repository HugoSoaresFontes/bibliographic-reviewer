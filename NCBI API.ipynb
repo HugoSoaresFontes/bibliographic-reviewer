{
 "cells": [
  {
   "cell_type": "code",
   "execution_count": 9,
   "metadata": {
    "collapsed": true
   },
   "outputs": [],
   "source": [
    "import requests\n",
    "from urllib.parse import urlencode"
   ]
  },
  {
   "cell_type": "code",
   "execution_count": 64,
   "metadata": {
    "collapsed": true
   },
   "outputs": [],
   "source": [
    "class NCBI_Searcher:\n",
    "    \"\"\"Classe que implementa a utilização da API das databases da NCBI.\n",
    "    \"\"\"\n",
    "    \n",
    "    search_url = 'https://eutils.ncbi.nlm.nih.gov/entrez/eutils/esearch.fcgi'\n",
    "    meta_url = 'https://eutils.ncbi.nlm.nih.gov/entrez/eutils/esummary.fcgi'\n",
    "    \n",
    "    def search(self, queryterms: list=None, db: str='pmc',\n",
    "               retmode: str='json', retmax: int=20, retstart: int=0):\n",
    "        \"\"\"\n",
    "        Realiza uma pesquisa NCBI.\n",
    "        \n",
    "        @param queryterms: list of lists. Terms within the same list are\n",
    "            separated by an OR. Lists are separated by an AND\n",
    "        @param db: base de dados a ser pesquisada. Se for mais de uma,\n",
    "            pode ser separado por vírgula. As mais úteis serão:\n",
    "            pmc, pubmed\n",
    "        @param retmode: A forma de retorno. None será em XML.\n",
    "        @@param retmax: A quantidade de artigos por pesquisa\n",
    "        @param retstart: O 'offset' de início de retorno. Se setado\n",
    "            para zero, irá trazer os resultados a partir do primeiro.\n",
    "            Se setado para 10, irá trazer os resultados a partir do\n",
    "            décimo.\n",
    "            \n",
    "        @return: uma lista de títulos e IDs no formato [(title, id)]\n",
    "        \"\"\"\n",
    "        term = \" AND \".join([\"(%s)\" % \" OR \".join(orses)for orses in queryterms])\n",
    "        payload = {\"term\":term, \"db\":db, \"retmode\":retmode,\n",
    "                   \"retmax\": retmax, \"retstart\":retstart}\n",
    "        url = \"%s?%s\" % (self.search_url, urlencode(payload))\n",
    "        \n",
    "        id_list = requests.get(url).json()['esearchresult']['idlist']\n",
    "        \n",
    "        result = self.get_article_metadata(*id_list)['result']\n",
    "        \n",
    "        return [(result[uid]['title'], uid) for uid in result['uids']]\n",
    "    \n",
    "    def get_article_metadata(self, *args, db: str='pmc', retmode: str='json'):\n",
    "        \"\"\"\n",
    "        Retorna os metadados do(s) artigo(s).\n",
    "        \n",
    "        @param id: ID do artigo. O ID do artigo depende da base de dados.\n",
    "            O ID de um artigo pode ser diferente entre a PMC e a PubMed\n",
    "            por exemplo. Podem ser passados vários IDs ao mesmo tempo.\n",
    "        @param db: base de dados a ser pesquisada. Se for mais de uma,\n",
    "            pode ser separado por vírgula. As mais úteis serão:\n",
    "            pmc, pubmed\n",
    "        @param retmode: A forma de retorno. None será em XML.\n",
    "        \n",
    "        @return: o json cru retornado pela API.\n",
    "        \"\"\"\n",
    "        id_list = ','.join([str(x) for x in args])\n",
    "            \n",
    "        payload = {\"id\":id_list, \"db\":db, \"retmode\":retmode}\n",
    "        url = \"%s?%s\" % (self.meta_url, urlencode(payload))\n",
    "        \n",
    "        r = requests.get(url).json()\n",
    "        \n",
    "        return r\n",
    "            \n",
    "        \n",
    "        \n",
    "        \n",
    "        "
   ]
  },
  {
   "cell_type": "code",
   "execution_count": 52,
   "metadata": {
    "collapsed": true
   },
   "outputs": [],
   "source": [
    "technology_queryterms = [\n",
    "    'machine learning', 'deep learning', 'artificial intelligence', \n",
    "    'neural network', 'scoring system'\n",
    "]\n",
    "\n",
    "health_queryterms = [\n",
    "    'coronary artery disease', 'chest pain', 'heart disease', 'MACE', \n",
    "    'Acute Cardiac Complications'\n",
    "]\n",
    "\n",
    "queryterms = [technology_queryterms, health_queryterms]"
   ]
  },
  {
   "cell_type": "code",
   "execution_count": 67,
   "metadata": {
    "collapsed": false
   },
   "outputs": [
    {
     "data": {
      "text/plain": [
       "['Bivariate genome-wide association analyses identified genetic pleiotropic effects for bone mineral density and alcohol drinking in Caucasians',\n",
       " 'KIF2A regulates the development of dentate granule cells and postnatal hippocampal wiring',\n",
       " 'Understanding uptake of an intervention to accelerate antiretroviral therapy initiation in Uganda via qualitative inquiry',\n",
       " 'Self-reported medication use validated through record linkage to national prescribing data',\n",
       " 'A Reliable Grading System for Prediction of Chronic Subdural Hematoma Recurrence Requiring Reoperation After Initial Burr-Hole Surgery',\n",
       " 'Altered DNA methylation indicates an oscillatory flow mediated epithelial-to-mesenchymal transition signature in ascending aorta of patients with bicuspid aortic valve',\n",
       " 'Primary Endovascular Treatment of Acute Ischemic Stroke Using Stent Retrievers: Initial Egyptian Experience',\n",
       " 'An fMRI study of the effects on normal language areas when acupuncturing the Tongli (HT5) and Xuanzhong (GB39) acupoints',\n",
       " 'Coronary microvascular dysfunction in diabetes mellitus',\n",
       " 'Machine learning and medicine: book review and commentary',\n",
       " 'A neurologist and ataxia: using eye movements to learn about the cerebellum',\n",
       " 'Trajectories of self-reported physical activity and predictors during the transition to old age: a 20-year cohort study of British men',\n",
       " 'Systems biology of the IMIDIA biobank from organ donors and pancreatectomised patients defines a novel transcriptomic signature of islets from individuals with type 2 diabetes',\n",
       " 'Working across species down on the farm: Howard S. Liddell and the development of comparative psychopathology, c. 1923–1962',\n",
       " 'Diagnostic Accuracy of Three-dimensional Turbo Field Echo Magnetic Resonance Imaging Sequence in Pediatric Tracheobronchial Anomalies with Congenital Heart Disease',\n",
       " 'Predictors of long-term adherence to continuous positive airway pressure in patients with obstructive sleep apnoea and acute coronary syndrome',\n",
       " 'Preface for the 3rd Clinical Update Sleep, 23rd February 2018, Royal College of Physicians, London, UK: year in review',\n",
       " 'The Neuroprotective Effect of Thalidomide against Ischemia through the Cereblon-mediated Repression of AMPK Activity',\n",
       " 'Semantic annotation of consumer health questions',\n",
       " 'Delirium in older hospitalized patients—signs and actions: a retrospective patient record review']"
      ]
     },
     "execution_count": 67,
     "metadata": {},
     "output_type": "execute_result"
    }
   ],
   "source": [
    "r = NCBI_Searcher().search(queryterms=queryterms)\n",
    "[a[0] for a in r]"
   ]
  }
 ],
 "metadata": {
  "anaconda-cloud": {},
  "kernelspec": {
   "display_name": "Python [default]",
   "language": "python",
   "name": "python3"
  },
  "language_info": {
   "codemirror_mode": {
    "name": "ipython",
    "version": 3
   },
   "file_extension": ".py",
   "mimetype": "text/x-python",
   "name": "python",
   "nbconvert_exporter": "python",
   "pygments_lexer": "ipython3",
   "version": "3.5.2"
  }
 },
 "nbformat": 4,
 "nbformat_minor": 2
}
